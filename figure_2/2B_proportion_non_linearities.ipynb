{
 "cells": [
  {
   "cell_type": "markdown",
   "metadata": {},
   "source": [
    "# Fig 2B: Proportion of non-linearities of GDSC-to-PDXE consensus features\n",
    "This notebook supports Fig_2B of the manuscript."
   ]
  },
  {
   "cell_type": "code",
   "execution_count": 38,
   "metadata": {},
   "outputs": [],
   "source": [
    "import os, sys\n",
    "import numpy as np\n",
    "import matplotlib.pyplot as plt\n",
    "import pandas as pd\n",
    "import seaborn as sns\n",
    "from joblib import Parallel, delayed\n",
    "import scipy\n",
    "from datetime import date\n",
    "sns.set_style(\"whitegrid\")\n",
    "sns.set_context('paper')\n",
    "from matplotlib import font_manager as fm, rcParams\n",
    "fpath = os.path.join(rcParams[\"datapath\"], \"fonts/ttf/arial.ttf\")\n",
    "prop_label = fm.FontProperties(fname=fpath)\n",
    "prop_label.set_size(30)\n",
    "prop_ticks = fm.FontProperties(fname=fpath)\n",
    "prop_ticks.set_size(25)\n",
    "fname = os.path.split(fpath)[1]\n",
    "\n",
    "from sklearn.preprocessing import StandardScaler\n",
    "\n",
    "sys.path.insert(0, '../read_data/')\n",
    "from read_data import read_data\n",
    "from reformat_df import reformat_df\n",
    "import library_size_normalization\n",
    "\n",
    "from transact.pv_computation import PVComputation\n",
    "from transact.interpolation import Interpolation\n",
    "from transact.matrix_operations import _center_kernel, _right_center_kernel, _left_center_kernel\n",
    "from transact.kernel_computer import KernelComputer\n",
    "from transact.PRECISE import TRANSACT\n",
    "\n",
    "from compute_proportion import compute_proportion"
   ]
  },
  {
   "cell_type": "code",
   "execution_count": 2,
   "metadata": {},
   "outputs": [],
   "source": [
    "# da: domain adaptation\n",
    "tissues = {\n",
    "    'PDXE': ['All'],\n",
    "    'GDSC': ['All']\n",
    "}\n",
    "projects = {\n",
    "    'PDXE':[None],\n",
    "    'GDSC': None\n",
    "}\n",
    "\n",
    "data_sources = ['GDSC', 'PDXE']\n",
    "\n",
    "data_types = ['fpkm']\n",
    "genes_filtering = 'mini'\n",
    "data_normalization = 'library_size' # Can be TPM, \"library_size\" or \"log\". Else will not have any influence.\n",
    "\n",
    "source = 'GDSC'\n",
    "target = 'PDXE'"
   ]
  },
  {
   "cell_type": "markdown",
   "metadata": {},
   "source": [
    "## Read data"
   ]
  },
  {
   "cell_type": "code",
   "execution_count": 3,
   "metadata": {},
   "outputs": [
    {
     "name": "stdout",
     "output_type": "stream",
     "text": [
      "DATA UPLOADED\n",
      "GENE HARMONIZED ACROSS VIEWS\n",
      "CHECKED FOR GOOD HARMONIZATION\n"
     ]
    }
   ],
   "source": [
    "data_df = read_data(tissues=tissues,\n",
    "                    data_types=[e for e in data_types],\n",
    "                    projects=projects,\n",
    "                    data_sources=data_sources,\n",
    "                    folder_basis='../data/')\n",
    "\n",
    "source_data_key, target_data_key = reformat_df(data_df, source, target)"
   ]
  },
  {
   "cell_type": "code",
   "execution_count": 4,
   "metadata": {},
   "outputs": [],
   "source": [
    "# Library size normalization\n",
    "average_depth_global = 10**5\n",
    "for ds in list(data_df.keys()):\n",
    "    GE_normalized = library_size_normalization.TMM_normalization(data_df[ds].values.astype(float))\n",
    "    GE_normalized = np.array(GE_normalized)\n",
    "    average_depths = np.mean(np.sum(GE_normalized,1))\n",
    "    GE_normalized = GE_normalized / average_depths * average_depth_global\n",
    "    GE_normalized = np.log(np.array(GE_normalized)+1)\n",
    "    data_df[ds] = pd.DataFrame(GE_normalized,\n",
    "                               columns=data_df[ds].columns,\n",
    "                               index=data_df[ds].index)"
   ]
  },
  {
   "cell_type": "code",
   "execution_count": 5,
   "metadata": {},
   "outputs": [],
   "source": [
    "# Normalization\n",
    "with_mean = True\n",
    "with_std = True\n",
    "\n",
    "normalized_data_df = {\n",
    "    ds : StandardScaler(with_mean=with_mean, with_std=with_std).fit_transform(data_df[ds])\n",
    "    for ds in data_df\n",
    "}"
   ]
  },
  {
   "cell_type": "markdown",
   "metadata": {},
   "source": [
    "## Computing contribution of each component"
   ]
  },
  {
   "cell_type": "code",
   "execution_count": 6,
   "metadata": {},
   "outputs": [],
   "source": [
    "number_pc = {\n",
    "    'source': 70,\n",
    "    'target': 50\n",
    "}\n",
    "\n",
    "n_pv = 20"
   ]
  },
  {
   "cell_type": "code",
   "execution_count": 7,
   "metadata": {},
   "outputs": [
    {
     "name": "stdout",
     "output_type": "stream",
     "text": [
      "FIT CLASSIFIER\n"
     ]
    },
    {
     "name": "stderr",
     "output_type": "stream",
     "text": [
      "[Parallel(n_jobs=30)]: Using backend LokyBackend with 30 concurrent workers.\n",
      "[Parallel(n_jobs=30)]: Done 101 out of 101 | elapsed:    6.1s finished\n"
     ]
    },
    {
     "name": "stdout",
     "output_type": "stream",
     "text": [
      "COMPUTE GAUSSIAN DEPTH\n",
      "COMPUTE LINEAR CONTRIBUTION\n"
     ]
    },
    {
     "name": "stderr",
     "output_type": "stream",
     "text": [
      "[Parallel(n_jobs=30)]: Using backend LokyBackend with 30 concurrent workers.\n",
      "[Parallel(n_jobs=30)]: Done 260 tasks      | elapsed:    0.5s\n",
      "[Parallel(n_jobs=30)]: Done 1680 tasks      | elapsed:    1.7s\n",
      "[Parallel(n_jobs=30)]: Done 1780 out of 1780 | elapsed:    1.8s finished\n",
      "[Parallel(n_jobs=30)]: Using backend LokyBackend with 30 concurrent workers.\n",
      "[Parallel(n_jobs=30)]: Done 260 tasks      | elapsed:    0.2s\n",
      "[Parallel(n_jobs=30)]: Done 1500 tasks      | elapsed:    0.8s\n",
      "[Parallel(n_jobs=30)]: Done 1780 out of 1780 | elapsed:    1.1s finished\n",
      "[Parallel(n_jobs=30)]: Using backend LokyBackend with 30 concurrent workers.\n"
     ]
    },
    {
     "name": "stdout",
     "output_type": "stream",
     "text": [
      "COMPUTE INTERACTION CONTRIBUTION\n"
     ]
    },
    {
     "name": "stderr",
     "output_type": "stream",
     "text": [
      "[Parallel(n_jobs=30)]: Done 140 tasks      | elapsed:    1.9s\n",
      "[Parallel(n_jobs=30)]: Done 390 tasks      | elapsed:    5.3s\n",
      "[Parallel(n_jobs=30)]: Done 740 tasks      | elapsed:   11.0s\n",
      "[Parallel(n_jobs=30)]: Done 1190 tasks      | elapsed:   19.9s\n",
      "[Parallel(n_jobs=30)]: Done 1780 out of 1780 | elapsed:   34.2s finished\n"
     ]
    },
    {
     "name": "stdout",
     "output_type": "stream",
     "text": [
      "FIT CLASSIFIER\n"
     ]
    },
    {
     "name": "stderr",
     "output_type": "stream",
     "text": [
      "[Parallel(n_jobs=30)]: Using backend LokyBackend with 30 concurrent workers.\n",
      "[Parallel(n_jobs=30)]: Done 101 out of 101 | elapsed:    1.4s finished\n"
     ]
    },
    {
     "name": "stdout",
     "output_type": "stream",
     "text": [
      "COMPUTE GAUSSIAN DEPTH\n",
      "COMPUTE LINEAR CONTRIBUTION\n"
     ]
    },
    {
     "name": "stderr",
     "output_type": "stream",
     "text": [
      "[Parallel(n_jobs=30)]: Using backend LokyBackend with 30 concurrent workers.\n",
      "[Parallel(n_jobs=30)]: Done 260 tasks      | elapsed:    0.7s\n",
      "[Parallel(n_jobs=30)]: Done 1680 tasks      | elapsed:    2.0s\n",
      "[Parallel(n_jobs=30)]: Done 1780 out of 1780 | elapsed:    2.0s finished\n",
      "[Parallel(n_jobs=30)]: Using backend LokyBackend with 30 concurrent workers.\n",
      "[Parallel(n_jobs=30)]: Done 260 tasks      | elapsed:    0.2s\n",
      "[Parallel(n_jobs=30)]: Done 1500 tasks      | elapsed:    0.9s\n",
      "[Parallel(n_jobs=30)]: Done 1780 out of 1780 | elapsed:    1.2s finished\n",
      "[Parallel(n_jobs=30)]: Using backend LokyBackend with 30 concurrent workers.\n"
     ]
    },
    {
     "name": "stdout",
     "output_type": "stream",
     "text": [
      "COMPUTE INTERACTION CONTRIBUTION\n"
     ]
    },
    {
     "name": "stderr",
     "output_type": "stream",
     "text": [
      "[Parallel(n_jobs=30)]: Done 220 tasks      | elapsed:    2.0s\n",
      "[Parallel(n_jobs=30)]: Done 720 tasks      | elapsed:    7.7s\n",
      "[Parallel(n_jobs=30)]: Done 1310 tasks      | elapsed:   18.0s\n",
      "[Parallel(n_jobs=30)]: Done 1780 out of 1780 | elapsed:   30.1s finished\n"
     ]
    },
    {
     "name": "stdout",
     "output_type": "stream",
     "text": [
      "FIT CLASSIFIER\n"
     ]
    },
    {
     "name": "stderr",
     "output_type": "stream",
     "text": [
      "[Parallel(n_jobs=30)]: Using backend LokyBackend with 30 concurrent workers.\n",
      "[Parallel(n_jobs=30)]: Done 101 out of 101 | elapsed:    1.3s finished\n"
     ]
    },
    {
     "name": "stdout",
     "output_type": "stream",
     "text": [
      "COMPUTE GAUSSIAN DEPTH\n",
      "COMPUTE LINEAR CONTRIBUTION\n"
     ]
    },
    {
     "name": "stderr",
     "output_type": "stream",
     "text": [
      "[Parallel(n_jobs=30)]: Using backend LokyBackend with 30 concurrent workers.\n",
      "[Parallel(n_jobs=30)]: Done 220 tasks      | elapsed:    0.4s\n",
      "[Parallel(n_jobs=30)]: Done 1696 tasks      | elapsed:    1.9s\n",
      "[Parallel(n_jobs=30)]: Done 1780 out of 1780 | elapsed:    1.9s finished\n",
      "[Parallel(n_jobs=30)]: Using backend LokyBackend with 30 concurrent workers.\n",
      "[Parallel(n_jobs=30)]: Done 260 tasks      | elapsed:    0.3s\n",
      "[Parallel(n_jobs=30)]: Done 1500 tasks      | elapsed:    0.8s\n",
      "[Parallel(n_jobs=30)]: Done 1780 out of 1780 | elapsed:    1.1s finished\n",
      "[Parallel(n_jobs=30)]: Using backend LokyBackend with 30 concurrent workers.\n"
     ]
    },
    {
     "name": "stdout",
     "output_type": "stream",
     "text": [
      "COMPUTE INTERACTION CONTRIBUTION\n"
     ]
    },
    {
     "name": "stderr",
     "output_type": "stream",
     "text": [
      "[Parallel(n_jobs=30)]: Done 140 tasks      | elapsed:    1.8s\n",
      "[Parallel(n_jobs=30)]: Done 390 tasks      | elapsed:    5.1s\n",
      "[Parallel(n_jobs=30)]: Done 740 tasks      | elapsed:   10.7s\n",
      "[Parallel(n_jobs=30)]: Done 1190 tasks      | elapsed:   19.7s\n",
      "[Parallel(n_jobs=30)]: Done 1780 out of 1780 | elapsed:   34.9s finished\n"
     ]
    },
    {
     "name": "stdout",
     "output_type": "stream",
     "text": [
      "FIT CLASSIFIER\n"
     ]
    },
    {
     "name": "stderr",
     "output_type": "stream",
     "text": [
      "[Parallel(n_jobs=30)]: Using backend LokyBackend with 30 concurrent workers.\n",
      "[Parallel(n_jobs=30)]: Done 101 out of 101 | elapsed:    1.4s finished\n"
     ]
    },
    {
     "name": "stdout",
     "output_type": "stream",
     "text": [
      "COMPUTE GAUSSIAN DEPTH\n",
      "COMPUTE LINEAR CONTRIBUTION\n"
     ]
    },
    {
     "name": "stderr",
     "output_type": "stream",
     "text": [
      "[Parallel(n_jobs=30)]: Using backend LokyBackend with 30 concurrent workers.\n",
      "[Parallel(n_jobs=30)]: Done 160 tasks      | elapsed:    0.6s\n",
      "[Parallel(n_jobs=30)]: Done 1582 tasks      | elapsed:    1.8s\n",
      "[Parallel(n_jobs=30)]: Done 1721 out of 1780 | elapsed:    1.8s remaining:    0.1s\n",
      "[Parallel(n_jobs=30)]: Done 1780 out of 1780 | elapsed:    1.9s finished\n",
      "[Parallel(n_jobs=30)]: Using backend LokyBackend with 30 concurrent workers.\n",
      "[Parallel(n_jobs=30)]: Done 260 tasks      | elapsed:    0.3s\n",
      "[Parallel(n_jobs=30)]: Done 1500 tasks      | elapsed:    0.8s\n",
      "[Parallel(n_jobs=30)]: Done 1780 out of 1780 | elapsed:    1.2s finished\n",
      "[Parallel(n_jobs=30)]: Using backend LokyBackend with 30 concurrent workers.\n"
     ]
    },
    {
     "name": "stdout",
     "output_type": "stream",
     "text": [
      "COMPUTE INTERACTION CONTRIBUTION\n"
     ]
    },
    {
     "name": "stderr",
     "output_type": "stream",
     "text": [
      "[Parallel(n_jobs=30)]: Done 220 tasks      | elapsed:    2.0s\n",
      "[Parallel(n_jobs=30)]: Done 720 tasks      | elapsed:    7.3s\n",
      "[Parallel(n_jobs=30)]: Done 1280 tasks      | elapsed:   17.0s\n",
      "[Parallel(n_jobs=30)]: Done 1780 out of 1780 | elapsed:   30.4s finished\n"
     ]
    },
    {
     "name": "stdout",
     "output_type": "stream",
     "text": [
      "FIT CLASSIFIER\n"
     ]
    },
    {
     "name": "stderr",
     "output_type": "stream",
     "text": [
      "[Parallel(n_jobs=30)]: Using backend LokyBackend with 30 concurrent workers.\n",
      "[Parallel(n_jobs=30)]: Done 101 out of 101 | elapsed:    1.1s finished\n"
     ]
    },
    {
     "name": "stdout",
     "output_type": "stream",
     "text": [
      "COMPUTE GAUSSIAN DEPTH\n",
      "COMPUTE LINEAR CONTRIBUTION\n"
     ]
    },
    {
     "name": "stderr",
     "output_type": "stream",
     "text": [
      "[Parallel(n_jobs=30)]: Using backend LokyBackend with 30 concurrent workers.\n",
      "[Parallel(n_jobs=30)]: Done 220 tasks      | elapsed:    0.7s\n",
      "[Parallel(n_jobs=30)]: Done 1476 tasks      | elapsed:    1.8s\n",
      "[Parallel(n_jobs=30)]: Done 1780 out of 1780 | elapsed:    2.1s finished\n",
      "[Parallel(n_jobs=30)]: Using backend LokyBackend with 30 concurrent workers.\n",
      "[Parallel(n_jobs=30)]: Done 260 tasks      | elapsed:    0.3s\n",
      "[Parallel(n_jobs=30)]: Done 1710 tasks      | elapsed:    1.0s\n",
      "[Parallel(n_jobs=30)]: Done 1780 out of 1780 | elapsed:    1.0s finished\n",
      "[Parallel(n_jobs=30)]: Using backend LokyBackend with 30 concurrent workers.\n"
     ]
    },
    {
     "name": "stdout",
     "output_type": "stream",
     "text": [
      "COMPUTE INTERACTION CONTRIBUTION\n"
     ]
    },
    {
     "name": "stderr",
     "output_type": "stream",
     "text": [
      "[Parallel(n_jobs=30)]: Done 140 tasks      | elapsed:    1.8s\n",
      "[Parallel(n_jobs=30)]: Done 390 tasks      | elapsed:    5.3s\n",
      "[Parallel(n_jobs=30)]: Done 740 tasks      | elapsed:   11.1s\n",
      "[Parallel(n_jobs=30)]: Done 1190 tasks      | elapsed:   20.6s\n",
      "[Parallel(n_jobs=30)]: Done 1780 out of 1780 | elapsed:   35.9s finished\n"
     ]
    },
    {
     "name": "stdout",
     "output_type": "stream",
     "text": [
      "FIT CLASSIFIER\n"
     ]
    },
    {
     "name": "stderr",
     "output_type": "stream",
     "text": [
      "[Parallel(n_jobs=30)]: Using backend LokyBackend with 30 concurrent workers.\n",
      "[Parallel(n_jobs=30)]: Done 101 out of 101 | elapsed:    1.6s finished\n"
     ]
    },
    {
     "name": "stdout",
     "output_type": "stream",
     "text": [
      "COMPUTE GAUSSIAN DEPTH\n",
      "COMPUTE LINEAR CONTRIBUTION\n"
     ]
    },
    {
     "name": "stderr",
     "output_type": "stream",
     "text": [
      "[Parallel(n_jobs=30)]: Using backend LokyBackend with 30 concurrent workers.\n",
      "[Parallel(n_jobs=30)]: Done 260 tasks      | elapsed:    0.4s\n",
      "[Parallel(n_jobs=30)]: Done 1680 tasks      | elapsed:    1.7s\n",
      "[Parallel(n_jobs=30)]: Done 1780 out of 1780 | elapsed:    1.8s finished\n",
      "[Parallel(n_jobs=30)]: Using backend LokyBackend with 30 concurrent workers.\n",
      "[Parallel(n_jobs=30)]: Done 260 tasks      | elapsed:    0.2s\n",
      "[Parallel(n_jobs=30)]: Done 1500 tasks      | elapsed:    0.8s\n",
      "[Parallel(n_jobs=30)]: Done 1780 out of 1780 | elapsed:    1.1s finished\n",
      "[Parallel(n_jobs=30)]: Using backend LokyBackend with 30 concurrent workers.\n"
     ]
    },
    {
     "name": "stdout",
     "output_type": "stream",
     "text": [
      "COMPUTE INTERACTION CONTRIBUTION\n"
     ]
    },
    {
     "name": "stderr",
     "output_type": "stream",
     "text": [
      "[Parallel(n_jobs=30)]: Done 220 tasks      | elapsed:    2.0s\n",
      "[Parallel(n_jobs=30)]: Done 720 tasks      | elapsed:    7.9s\n",
      "[Parallel(n_jobs=30)]: Done 1310 tasks      | elapsed:   17.9s\n",
      "[Parallel(n_jobs=30)]: Done 1780 out of 1780 | elapsed:   30.1s finished\n"
     ]
    },
    {
     "name": "stdout",
     "output_type": "stream",
     "text": [
      "FIT CLASSIFIER\n"
     ]
    },
    {
     "name": "stderr",
     "output_type": "stream",
     "text": [
      "[Parallel(n_jobs=30)]: Using backend LokyBackend with 30 concurrent workers.\n",
      "[Parallel(n_jobs=30)]: Done 101 out of 101 | elapsed:    1.2s finished\n"
     ]
    },
    {
     "name": "stdout",
     "output_type": "stream",
     "text": [
      "COMPUTE GAUSSIAN DEPTH\n",
      "COMPUTE LINEAR CONTRIBUTION\n"
     ]
    },
    {
     "name": "stderr",
     "output_type": "stream",
     "text": [
      "[Parallel(n_jobs=30)]: Using backend LokyBackend with 30 concurrent workers.\n",
      "[Parallel(n_jobs=30)]: Done 220 tasks      | elapsed:    0.6s\n",
      "[Parallel(n_jobs=30)]: Done 1530 tasks      | elapsed:    1.8s\n",
      "[Parallel(n_jobs=30)]: Done 1780 out of 1780 | elapsed:    2.1s finished\n",
      "[Parallel(n_jobs=30)]: Using backend LokyBackend with 30 concurrent workers.\n",
      "[Parallel(n_jobs=30)]: Done 260 tasks      | elapsed:    0.2s\n",
      "[Parallel(n_jobs=30)]: Done 1470 tasks      | elapsed:    0.8s\n",
      "[Parallel(n_jobs=30)]: Done 1780 out of 1780 | elapsed:    1.2s finished\n",
      "[Parallel(n_jobs=30)]: Using backend LokyBackend with 30 concurrent workers.\n"
     ]
    },
    {
     "name": "stdout",
     "output_type": "stream",
     "text": [
      "COMPUTE INTERACTION CONTRIBUTION\n"
     ]
    },
    {
     "name": "stderr",
     "output_type": "stream",
     "text": [
      "[Parallel(n_jobs=30)]: Done 220 tasks      | elapsed:    2.0s\n",
      "[Parallel(n_jobs=30)]: Done 720 tasks      | elapsed:    7.4s\n",
      "[Parallel(n_jobs=30)]: Done 1310 tasks      | elapsed:   17.5s\n",
      "[Parallel(n_jobs=30)]: Done 1780 out of 1780 | elapsed:   29.8s finished\n"
     ]
    },
    {
     "name": "stdout",
     "output_type": "stream",
     "text": [
      "FIT CLASSIFIER\n"
     ]
    },
    {
     "name": "stderr",
     "output_type": "stream",
     "text": [
      "[Parallel(n_jobs=30)]: Using backend LokyBackend with 30 concurrent workers.\n",
      "[Parallel(n_jobs=30)]: Done 101 out of 101 | elapsed:    1.3s finished\n"
     ]
    },
    {
     "name": "stdout",
     "output_type": "stream",
     "text": [
      "COMPUTE GAUSSIAN DEPTH\n",
      "COMPUTE LINEAR CONTRIBUTION\n"
     ]
    },
    {
     "name": "stderr",
     "output_type": "stream",
     "text": [
      "[Parallel(n_jobs=30)]: Using backend LokyBackend with 30 concurrent workers.\n",
      "[Parallel(n_jobs=30)]: Done 220 tasks      | elapsed:    0.6s\n",
      "[Parallel(n_jobs=30)]: Done 1721 out of 1780 | elapsed:    1.9s remaining:    0.1s\n",
      "[Parallel(n_jobs=30)]: Done 1780 out of 1780 | elapsed:    1.9s finished\n",
      "[Parallel(n_jobs=30)]: Using backend LokyBackend with 30 concurrent workers.\n",
      "[Parallel(n_jobs=30)]: Done 260 tasks      | elapsed:    0.2s\n",
      "[Parallel(n_jobs=30)]: Done 1500 tasks      | elapsed:    0.8s\n",
      "[Parallel(n_jobs=30)]: Done 1780 out of 1780 | elapsed:    1.1s finished\n",
      "[Parallel(n_jobs=30)]: Using backend LokyBackend with 30 concurrent workers.\n"
     ]
    },
    {
     "name": "stdout",
     "output_type": "stream",
     "text": [
      "COMPUTE INTERACTION CONTRIBUTION\n"
     ]
    },
    {
     "name": "stderr",
     "output_type": "stream",
     "text": [
      "[Parallel(n_jobs=30)]: Done 220 tasks      | elapsed:    2.0s\n",
      "[Parallel(n_jobs=30)]: Done 720 tasks      | elapsed:    6.9s\n",
      "[Parallel(n_jobs=30)]: Done 1340 tasks      | elapsed:   16.5s\n",
      "[Parallel(n_jobs=30)]: Done 1780 out of 1780 | elapsed:   27.3s finished\n"
     ]
    },
    {
     "name": "stdout",
     "output_type": "stream",
     "text": [
      "FIT CLASSIFIER\n"
     ]
    },
    {
     "name": "stderr",
     "output_type": "stream",
     "text": [
      "[Parallel(n_jobs=30)]: Using backend LokyBackend with 30 concurrent workers.\n",
      "[Parallel(n_jobs=30)]: Done 101 out of 101 | elapsed:    1.5s finished\n",
      "[Parallel(n_jobs=30)]: Done 101 out of 101 | elapsed:    1.3s finished\n"
     ]
    },
    {
     "name": "stdout",
     "output_type": "stream",
     "text": [
      "COMPUTE GAUSSIAN DEPTH\n",
      "COMPUTE LINEAR CONTRIBUTION\n"
     ]
    },
    {
     "name": "stderr",
     "output_type": "stream",
     "text": [
      "[Parallel(n_jobs=30)]: Using backend LokyBackend with 30 concurrent workers.\n",
      "[Parallel(n_jobs=30)]: Done 140 tasks      | elapsed:    0.7s\n",
      "[Parallel(n_jobs=30)]: Done 1470 tasks      | elapsed:    1.9s\n",
      "[Parallel(n_jobs=30)]: Done 1721 out of 1780 | elapsed:    2.0s remaining:    0.1s\n",
      "[Parallel(n_jobs=30)]: Done 1780 out of 1780 | elapsed:    2.1s finished\n",
      "[Parallel(n_jobs=30)]: Using backend LokyBackend with 30 concurrent workers.\n",
      "[Parallel(n_jobs=30)]: Done 260 tasks      | elapsed:    0.3s\n",
      "[Parallel(n_jobs=30)]: Done 1500 tasks      | elapsed:    0.8s\n",
      "[Parallel(n_jobs=30)]: Done 1780 out of 1780 | elapsed:    1.0s finished\n",
      "[Parallel(n_jobs=30)]: Using backend LokyBackend with 30 concurrent workers.\n"
     ]
    },
    {
     "name": "stdout",
     "output_type": "stream",
     "text": [
      "COMPUTE INTERACTION CONTRIBUTION\n"
     ]
    },
    {
     "name": "stderr",
     "output_type": "stream",
     "text": [
      "[Parallel(n_jobs=30)]: Done 220 tasks      | elapsed:    2.0s\n",
      "[Parallel(n_jobs=30)]: Done 720 tasks      | elapsed:    7.3s\n",
      "[Parallel(n_jobs=30)]: Done 1370 tasks      | elapsed:   17.4s\n",
      "[Parallel(n_jobs=30)]: Done 1780 out of 1780 | elapsed:   28.0s finished\n"
     ]
    },
    {
     "name": "stdout",
     "output_type": "stream",
     "text": [
      "FIT CLASSIFIER\n"
     ]
    },
    {
     "name": "stderr",
     "output_type": "stream",
     "text": [
      "[Parallel(n_jobs=30)]: Using backend LokyBackend with 30 concurrent workers.\n",
      "[Parallel(n_jobs=30)]: Done 101 out of 101 | elapsed:    1.3s finished\n"
     ]
    },
    {
     "name": "stdout",
     "output_type": "stream",
     "text": [
      "COMPUTE GAUSSIAN DEPTH\n",
      "COMPUTE LINEAR CONTRIBUTION\n"
     ]
    },
    {
     "name": "stderr",
     "output_type": "stream",
     "text": [
      "[Parallel(n_jobs=30)]: Using backend LokyBackend with 30 concurrent workers.\n",
      "[Parallel(n_jobs=30)]: Done 260 tasks      | elapsed:    0.6s\n",
      "[Parallel(n_jobs=30)]: Done 1500 tasks      | elapsed:    1.7s\n",
      "[Parallel(n_jobs=30)]: Done 1780 out of 1780 | elapsed:    2.0s finished\n",
      "[Parallel(n_jobs=30)]: Using backend LokyBackend with 30 concurrent workers.\n",
      "[Parallel(n_jobs=30)]: Done 262 tasks      | elapsed:    0.2s\n",
      "[Parallel(n_jobs=30)]: Done 1500 tasks      | elapsed:    0.8s\n",
      "[Parallel(n_jobs=30)]: Done 1780 out of 1780 | elapsed:    1.1s finished\n",
      "[Parallel(n_jobs=30)]: Using backend LokyBackend with 30 concurrent workers.\n"
     ]
    },
    {
     "name": "stdout",
     "output_type": "stream",
     "text": [
      "COMPUTE INTERACTION CONTRIBUTION\n"
     ]
    },
    {
     "name": "stderr",
     "output_type": "stream",
     "text": [
      "[Parallel(n_jobs=30)]: Done 220 tasks      | elapsed:    2.0s\n",
      "[Parallel(n_jobs=30)]: Done 720 tasks      | elapsed:    7.1s\n",
      "[Parallel(n_jobs=30)]: Done 1310 tasks      | elapsed:   16.4s\n",
      "[Parallel(n_jobs=30)]: Done 1780 out of 1780 | elapsed:   28.0s finished\n"
     ]
    },
    {
     "name": "stdout",
     "output_type": "stream",
     "text": [
      "FIT CLASSIFIER\n"
     ]
    },
    {
     "name": "stderr",
     "output_type": "stream",
     "text": [
      "[Parallel(n_jobs=30)]: Using backend LokyBackend with 30 concurrent workers.\n",
      "[Parallel(n_jobs=30)]: Done 101 out of 101 | elapsed:    1.4s finished\n"
     ]
    },
    {
     "name": "stdout",
     "output_type": "stream",
     "text": [
      "COMPUTE GAUSSIAN DEPTH\n",
      "COMPUTE LINEAR CONTRIBUTION\n"
     ]
    },
    {
     "name": "stderr",
     "output_type": "stream",
     "text": [
      "[Parallel(n_jobs=30)]: Using backend LokyBackend with 30 concurrent workers.\n",
      "[Parallel(n_jobs=30)]: Done 260 tasks      | elapsed:    0.5s\n",
      "[Parallel(n_jobs=30)]: Done 1680 tasks      | elapsed:    1.6s\n",
      "[Parallel(n_jobs=30)]: Done 1780 out of 1780 | elapsed:    1.7s finished\n",
      "[Parallel(n_jobs=30)]: Using backend LokyBackend with 30 concurrent workers.\n",
      "[Parallel(n_jobs=30)]: Done 260 tasks      | elapsed:    0.3s\n",
      "[Parallel(n_jobs=30)]: Done 1500 tasks      | elapsed:    0.8s\n",
      "[Parallel(n_jobs=30)]: Done 1780 out of 1780 | elapsed:    1.1s finished\n",
      "[Parallel(n_jobs=30)]: Using backend LokyBackend with 30 concurrent workers.\n"
     ]
    },
    {
     "name": "stdout",
     "output_type": "stream",
     "text": [
      "COMPUTE INTERACTION CONTRIBUTION\n"
     ]
    },
    {
     "name": "stderr",
     "output_type": "stream",
     "text": [
      "[Parallel(n_jobs=30)]: Done 220 tasks      | elapsed:    1.9s\n",
      "[Parallel(n_jobs=30)]: Done 720 tasks      | elapsed:    7.2s\n",
      "[Parallel(n_jobs=30)]: Done 1340 tasks      | elapsed:   16.9s\n",
      "[Parallel(n_jobs=30)]: Done 1780 out of 1780 | elapsed:   28.2s finished\n"
     ]
    },
    {
     "name": "stdout",
     "output_type": "stream",
     "text": [
      "FIT CLASSIFIER\n"
     ]
    },
    {
     "name": "stderr",
     "output_type": "stream",
     "text": [
      "[Parallel(n_jobs=30)]: Using backend LokyBackend with 30 concurrent workers.\n",
      "[Parallel(n_jobs=30)]: Done 101 out of 101 | elapsed:    1.3s finished\n"
     ]
    },
    {
     "name": "stdout",
     "output_type": "stream",
     "text": [
      "COMPUTE GAUSSIAN DEPTH\n",
      "COMPUTE LINEAR CONTRIBUTION\n"
     ]
    },
    {
     "name": "stderr",
     "output_type": "stream",
     "text": [
      "[Parallel(n_jobs=30)]: Using backend LokyBackend with 30 concurrent workers.\n",
      "[Parallel(n_jobs=30)]: Done 260 tasks      | elapsed:    0.7s\n",
      "[Parallel(n_jobs=30)]: Done 1780 out of 1780 | elapsed:    2.0s finished\n",
      "[Parallel(n_jobs=30)]: Using backend LokyBackend with 30 concurrent workers.\n",
      "[Parallel(n_jobs=30)]: Done 260 tasks      | elapsed:    0.2s\n",
      "[Parallel(n_jobs=30)]: Done 1500 tasks      | elapsed:    0.8s\n",
      "[Parallel(n_jobs=30)]: Done 1780 out of 1780 | elapsed:    1.1s finished\n",
      "[Parallel(n_jobs=30)]: Using backend LokyBackend with 30 concurrent workers.\n"
     ]
    },
    {
     "name": "stdout",
     "output_type": "stream",
     "text": [
      "COMPUTE INTERACTION CONTRIBUTION\n"
     ]
    },
    {
     "name": "stderr",
     "output_type": "stream",
     "text": [
      "[Parallel(n_jobs=30)]: Done 220 tasks      | elapsed:    2.6s\n",
      "[Parallel(n_jobs=30)]: Done 720 tasks      | elapsed:    7.9s\n",
      "[Parallel(n_jobs=30)]: Done 1340 tasks      | elapsed:   17.5s\n",
      "[Parallel(n_jobs=30)]: Done 1780 out of 1780 | elapsed:   29.3s finished\n"
     ]
    },
    {
     "name": "stdout",
     "output_type": "stream",
     "text": [
      "FIT CLASSIFIER\n"
     ]
    },
    {
     "name": "stderr",
     "output_type": "stream",
     "text": [
      "[Parallel(n_jobs=30)]: Using backend LokyBackend with 30 concurrent workers.\n",
      "[Parallel(n_jobs=30)]: Done 101 out of 101 | elapsed:    1.3s finished\n"
     ]
    },
    {
     "name": "stdout",
     "output_type": "stream",
     "text": [
      "COMPUTE GAUSSIAN DEPTH\n",
      "COMPUTE LINEAR CONTRIBUTION\n"
     ]
    },
    {
     "name": "stderr",
     "output_type": "stream",
     "text": [
      "[Parallel(n_jobs=30)]: Using backend LokyBackend with 30 concurrent workers.\n",
      "[Parallel(n_jobs=30)]: Done 260 tasks      | elapsed:    0.5s\n",
      "[Parallel(n_jobs=30)]: Done 1680 tasks      | elapsed:    1.7s\n",
      "[Parallel(n_jobs=30)]: Done 1780 out of 1780 | elapsed:    1.8s finished\n",
      "[Parallel(n_jobs=30)]: Using backend LokyBackend with 30 concurrent workers.\n",
      "[Parallel(n_jobs=30)]: Done 260 tasks      | elapsed:    0.2s\n",
      "[Parallel(n_jobs=30)]: Done 1500 tasks      | elapsed:    0.9s\n",
      "[Parallel(n_jobs=30)]: Done 1780 out of 1780 | elapsed:    1.2s finished\n",
      "[Parallel(n_jobs=30)]: Using backend LokyBackend with 30 concurrent workers.\n"
     ]
    },
    {
     "name": "stdout",
     "output_type": "stream",
     "text": [
      "COMPUTE INTERACTION CONTRIBUTION\n"
     ]
    },
    {
     "name": "stderr",
     "output_type": "stream",
     "text": [
      "[Parallel(n_jobs=30)]: Done 140 tasks      | elapsed:    1.8s\n",
      "[Parallel(n_jobs=30)]: Done 390 tasks      | elapsed:    5.3s\n",
      "[Parallel(n_jobs=30)]: Done 740 tasks      | elapsed:   11.1s\n",
      "[Parallel(n_jobs=30)]: Done 1190 tasks      | elapsed:   20.6s\n",
      "[Parallel(n_jobs=30)]: Done 1780 out of 1780 | elapsed:   36.0s finished\n"
     ]
    },
    {
     "name": "stdout",
     "output_type": "stream",
     "text": [
      "FIT CLASSIFIER\n"
     ]
    },
    {
     "name": "stderr",
     "output_type": "stream",
     "text": [
      "[Parallel(n_jobs=30)]: Using backend LokyBackend with 30 concurrent workers.\n",
      "[Parallel(n_jobs=30)]: Done 101 out of 101 | elapsed:    1.6s finished\n"
     ]
    },
    {
     "name": "stdout",
     "output_type": "stream",
     "text": [
      "COMPUTE GAUSSIAN DEPTH\n",
      "COMPUTE LINEAR CONTRIBUTION\n"
     ]
    },
    {
     "name": "stderr",
     "output_type": "stream",
     "text": [
      "[Parallel(n_jobs=30)]: Using backend LokyBackend with 30 concurrent workers.\n",
      "[Parallel(n_jobs=30)]: Done 220 tasks      | elapsed:    0.6s\n",
      "[Parallel(n_jobs=30)]: Done 1721 out of 1780 | elapsed:    1.9s remaining:    0.1s\n",
      "[Parallel(n_jobs=30)]: Done 1780 out of 1780 | elapsed:    1.9s finished\n",
      "[Parallel(n_jobs=30)]: Using backend LokyBackend with 30 concurrent workers.\n",
      "[Parallel(n_jobs=30)]: Done 260 tasks      | elapsed:    0.2s\n",
      "[Parallel(n_jobs=30)]: Done 1500 tasks      | elapsed:    0.8s\n",
      "[Parallel(n_jobs=30)]: Done 1780 out of 1780 | elapsed:    1.1s finished\n",
      "[Parallel(n_jobs=30)]: Using backend LokyBackend with 30 concurrent workers.\n"
     ]
    },
    {
     "name": "stdout",
     "output_type": "stream",
     "text": [
      "COMPUTE INTERACTION CONTRIBUTION\n"
     ]
    },
    {
     "name": "stderr",
     "output_type": "stream",
     "text": [
      "[Parallel(n_jobs=30)]: Done 220 tasks      | elapsed:    2.0s\n",
      "[Parallel(n_jobs=30)]: Done 720 tasks      | elapsed:    7.4s\n",
      "[Parallel(n_jobs=30)]: Done 1310 tasks      | elapsed:   17.5s\n",
      "[Parallel(n_jobs=30)]: Done 1780 out of 1780 | elapsed:   30.0s finished\n"
     ]
    },
    {
     "name": "stdout",
     "output_type": "stream",
     "text": [
      "FIT CLASSIFIER\n"
     ]
    },
    {
     "name": "stderr",
     "output_type": "stream",
     "text": [
      "[Parallel(n_jobs=30)]: Using backend LokyBackend with 30 concurrent workers.\n",
      "[Parallel(n_jobs=30)]: Done 101 out of 101 | elapsed:    1.4s finished\n"
     ]
    },
    {
     "name": "stdout",
     "output_type": "stream",
     "text": [
      "COMPUTE GAUSSIAN DEPTH\n",
      "COMPUTE LINEAR CONTRIBUTION\n"
     ]
    },
    {
     "name": "stderr",
     "output_type": "stream",
     "text": [
      "[Parallel(n_jobs=30)]: Using backend LokyBackend with 30 concurrent workers.\n",
      "[Parallel(n_jobs=30)]: Done 260 tasks      | elapsed:    0.5s\n",
      "[Parallel(n_jobs=30)]: Done 1680 tasks      | elapsed:    2.3s\n",
      "[Parallel(n_jobs=30)]: Done 1780 out of 1780 | elapsed:    2.4s finished\n",
      "[Parallel(n_jobs=30)]: Using backend LokyBackend with 30 concurrent workers.\n",
      "[Parallel(n_jobs=30)]: Done 260 tasks      | elapsed:    0.3s\n",
      "[Parallel(n_jobs=30)]: Done 1500 tasks      | elapsed:    0.8s\n",
      "[Parallel(n_jobs=30)]: Done 1780 out of 1780 | elapsed:    1.1s finished\n",
      "[Parallel(n_jobs=30)]: Using backend LokyBackend with 30 concurrent workers.\n"
     ]
    },
    {
     "name": "stdout",
     "output_type": "stream",
     "text": [
      "COMPUTE INTERACTION CONTRIBUTION\n"
     ]
    },
    {
     "name": "stderr",
     "output_type": "stream",
     "text": [
      "[Parallel(n_jobs=30)]: Done 220 tasks      | elapsed:    1.9s\n",
      "[Parallel(n_jobs=30)]: Done 720 tasks      | elapsed:    7.2s\n",
      "[Parallel(n_jobs=30)]: Done 1420 tasks      | elapsed:   17.4s\n",
      "[Parallel(n_jobs=30)]: Done 1780 out of 1780 | elapsed:   25.9s finished\n"
     ]
    },
    {
     "name": "stdout",
     "output_type": "stream",
     "text": [
      "FIT CLASSIFIER\n"
     ]
    },
    {
     "name": "stderr",
     "output_type": "stream",
     "text": [
      "[Parallel(n_jobs=30)]: Using backend LokyBackend with 30 concurrent workers.\n",
      "[Parallel(n_jobs=30)]: Done 101 out of 101 | elapsed:    1.3s finished\n"
     ]
    },
    {
     "name": "stdout",
     "output_type": "stream",
     "text": [
      "COMPUTE GAUSSIAN DEPTH\n",
      "COMPUTE LINEAR CONTRIBUTION\n"
     ]
    },
    {
     "name": "stderr",
     "output_type": "stream",
     "text": [
      "[Parallel(n_jobs=30)]: Using backend LokyBackend with 30 concurrent workers.\n",
      "[Parallel(n_jobs=30)]: Done 260 tasks      | elapsed:    0.4s\n",
      "[Parallel(n_jobs=30)]: Done 1680 tasks      | elapsed:    1.5s\n",
      "[Parallel(n_jobs=30)]: Done 1780 out of 1780 | elapsed:    1.6s finished\n",
      "[Parallel(n_jobs=30)]: Using backend LokyBackend with 30 concurrent workers.\n",
      "[Parallel(n_jobs=30)]: Done 260 tasks      | elapsed:    0.2s\n",
      "[Parallel(n_jobs=30)]: Done 1500 tasks      | elapsed:    0.8s\n",
      "[Parallel(n_jobs=30)]: Done 1780 out of 1780 | elapsed:    1.1s finished\n",
      "[Parallel(n_jobs=30)]: Using backend LokyBackend with 30 concurrent workers.\n"
     ]
    },
    {
     "name": "stdout",
     "output_type": "stream",
     "text": [
      "COMPUTE INTERACTION CONTRIBUTION\n"
     ]
    },
    {
     "name": "stderr",
     "output_type": "stream",
     "text": [
      "[Parallel(n_jobs=30)]: Done 220 tasks      | elapsed:    1.8s\n",
      "[Parallel(n_jobs=30)]: Done 720 tasks      | elapsed:    6.8s\n",
      "[Parallel(n_jobs=30)]: Done 1370 tasks      | elapsed:   16.4s\n",
      "[Parallel(n_jobs=30)]: Done 1780 out of 1780 | elapsed:   25.9s finished\n"
     ]
    },
    {
     "name": "stdout",
     "output_type": "stream",
     "text": [
      "FIT CLASSIFIER\n"
     ]
    },
    {
     "name": "stderr",
     "output_type": "stream",
     "text": [
      "[Parallel(n_jobs=30)]: Using backend LokyBackend with 30 concurrent workers.\n",
      "[Parallel(n_jobs=30)]: Done 101 out of 101 | elapsed:    1.2s finished\n"
     ]
    },
    {
     "name": "stdout",
     "output_type": "stream",
     "text": [
      "COMPUTE GAUSSIAN DEPTH\n",
      "COMPUTE LINEAR CONTRIBUTION\n"
     ]
    },
    {
     "name": "stderr",
     "output_type": "stream",
     "text": [
      "[Parallel(n_jobs=30)]: Using backend LokyBackend with 30 concurrent workers.\n",
      "[Parallel(n_jobs=30)]: Done 260 tasks      | elapsed:    0.4s\n",
      "[Parallel(n_jobs=30)]: Done 1500 tasks      | elapsed:    1.4s\n",
      "[Parallel(n_jobs=30)]: Done 1780 out of 1780 | elapsed:    1.8s finished\n",
      "[Parallel(n_jobs=30)]: Using backend LokyBackend with 30 concurrent workers.\n",
      "[Parallel(n_jobs=30)]: Done 262 tasks      | elapsed:    0.2s\n",
      "[Parallel(n_jobs=30)]: Done 1500 tasks      | elapsed:    1.3s\n",
      "[Parallel(n_jobs=30)]: Done 1780 out of 1780 | elapsed:    1.6s finished\n",
      "[Parallel(n_jobs=30)]: Using backend LokyBackend with 30 concurrent workers.\n"
     ]
    },
    {
     "name": "stdout",
     "output_type": "stream",
     "text": [
      "COMPUTE INTERACTION CONTRIBUTION\n"
     ]
    },
    {
     "name": "stderr",
     "output_type": "stream",
     "text": [
      "[Parallel(n_jobs=30)]: Done 220 tasks      | elapsed:    1.8s\n",
      "[Parallel(n_jobs=30)]: Done 720 tasks      | elapsed:    6.6s\n",
      "[Parallel(n_jobs=30)]: Done 1400 tasks      | elapsed:   16.3s\n",
      "[Parallel(n_jobs=30)]: Done 1780 out of 1780 | elapsed:   25.5s finished\n"
     ]
    },
    {
     "name": "stdout",
     "output_type": "stream",
     "text": [
      "FIT CLASSIFIER\n"
     ]
    },
    {
     "name": "stderr",
     "output_type": "stream",
     "text": [
      "[Parallel(n_jobs=30)]: Using backend LokyBackend with 30 concurrent workers.\n",
      "[Parallel(n_jobs=30)]: Done 101 out of 101 | elapsed:    1.6s finished\n"
     ]
    },
    {
     "name": "stdout",
     "output_type": "stream",
     "text": [
      "COMPUTE GAUSSIAN DEPTH\n",
      "COMPUTE LINEAR CONTRIBUTION\n"
     ]
    },
    {
     "name": "stderr",
     "output_type": "stream",
     "text": [
      "[Parallel(n_jobs=30)]: Using backend LokyBackend with 30 concurrent workers.\n",
      "[Parallel(n_jobs=30)]: Done 260 tasks      | elapsed:    0.5s\n",
      "[Parallel(n_jobs=30)]: Done 1680 tasks      | elapsed:    1.6s\n",
      "[Parallel(n_jobs=30)]: Done 1780 out of 1780 | elapsed:    1.7s finished\n",
      "[Parallel(n_jobs=30)]: Using backend LokyBackend with 30 concurrent workers.\n",
      "[Parallel(n_jobs=30)]: Done 260 tasks      | elapsed:    0.2s\n",
      "[Parallel(n_jobs=30)]: Done 1500 tasks      | elapsed:    0.7s\n",
      "[Parallel(n_jobs=30)]: Done 1780 out of 1780 | elapsed:    1.0s finished\n",
      "[Parallel(n_jobs=30)]: Using backend LokyBackend with 30 concurrent workers.\n"
     ]
    },
    {
     "name": "stdout",
     "output_type": "stream",
     "text": [
      "COMPUTE INTERACTION CONTRIBUTION\n"
     ]
    },
    {
     "name": "stderr",
     "output_type": "stream",
     "text": [
      "[Parallel(n_jobs=30)]: Done 220 tasks      | elapsed:    1.9s\n",
      "[Parallel(n_jobs=30)]: Done 720 tasks      | elapsed:    6.8s\n",
      "[Parallel(n_jobs=30)]: Done 1340 tasks      | elapsed:   16.9s\n",
      "[Parallel(n_jobs=30)]: Done 1780 out of 1780 | elapsed:   28.6s finished\n"
     ]
    }
   ],
   "source": [
    "gamma_values = np.logspace(-6,-2,20,base=10)\n",
    "\n",
    "contribution = {gamma:compute_proportion(gamma,\n",
    "                                         number_pc,\n",
    "                                         n_pv,\n",
    "                                         normalized_data_df,\n",
    "                                         source_data_key,\n",
    "                                         target_data_key) for gamma in gamma_values}\n",
    "clf = {gamma:contribution[gamma][0] for gamma in gamma_values}\n",
    "contribution = {gamma:contribution[gamma][1] for gamma in gamma_values}"
   ]
  },
  {
   "cell_type": "markdown",
   "metadata": {},
   "source": [
    "## Plot"
   ]
  },
  {
   "cell_type": "code",
   "execution_count": 8,
   "metadata": {},
   "outputs": [],
   "source": [
    "# Format the results\n",
    "features = ['offset', 'linear', 'interaction']\n",
    "global_contribution_source = {}\n",
    "global_contribution_target = {}\n",
    "global_contribution_consensus = {}\n",
    "\n",
    "for gamma in gamma_values:\n",
    "    contribution_source = {f:contribution[gamma][f]['source'] for f in features}\n",
    "    global_contribution_source[gamma] = {f:np.mean(contribution_source[f]) for f in contribution_source}\n",
    "\n",
    "    contribution_target = {f:contribution[gamma][f]['target'] for f in features}\n",
    "    global_contribution_target[gamma] = {f:np.mean(contribution_target[f]) for f in contribution_target}\n",
    "\n",
    "    contribution_consensus = {f:contribution[gamma][f]['consensus'] for f in features}\n",
    "    global_contribution_consensus[gamma] = {f:np.mean(contribution_consensus[f]) for f in contribution_consensus}\n",
    "\n",
    "global_contribution_consensus_df = pd.DataFrame(global_contribution_consensus).T\n",
    "global_contribution_consensus_df['higher order'] = (1 - np.sum(global_contribution_consensus_df, axis=1)).values"
   ]
  },
  {
   "cell_type": "code",
   "execution_count": 9,
   "metadata": {},
   "outputs": [
    {
     "data": {
      "image/png": "[encoded data removed]",
      "text/plain": [
       "<Figure size 936x432 with 1 Axes>"
      ]
     },
     "metadata": {},
     "output_type": "display_data"
    }
   ],
   "source": [
    "xticks = np.logspace(-6, -2, 5)\n",
    "yticks = np.linspace(0,1,6)\n",
    "yticks_labels = ['%s%%'%(int(100*(y))) for y in yticks]\n",
    "\n",
    "plt.figure(figsize=(13,6))\n",
    "\n",
    "plt.stackplot(global_contribution_consensus_df.index.astype(float),\n",
    "              global_contribution_consensus_df.values.T, \n",
    "              labels=global_contribution_consensus_df.columns,alpha=0.75)\n",
    "plt.legend(loc='upper left', bbox_to_anchor=(1.05, 1), fontsize=15, ncol=2)\n",
    "plt.xscale('log')\n",
    "plt.xticks(xticks, xticks, fontsize=25)\n",
    "plt.grid(True)\n",
    "plt.yticks(yticks, yticks_labels, fontsize=20)\n",
    "plt.xlim(min(xticks), xticks[-1])\n",
    "plt.ylim(0,1.01)\n",
    "plt.ylabel('Geometric proportion \\n of linear and non-linear terms \\n in consensus features',\n",
    "           fontsize=25,\n",
    "           color='black')\n",
    "plt.xlabel('$\\gamma$', fontsize=30, color='black')\n",
    "plt.tight_layout()\n",
    "\n",
    "plt.savefig('figures/stacked_figure_contribution_n_pv_%s.png'%(n_pv), dpi=300)\n",
    "plt.show()"
   ]
  },
  {
   "cell_type": "code",
   "execution_count": 21,
   "metadata": {},
   "outputs": [],
   "source": [
    "xticks_lines = [\n",
    "    10**(-5),\n",
    "    10**(-4.5),\n",
    "    10**(-4),\n",
    "    10**(-3.5),\n",
    "    10**(-3),\n",
    "    10**(-2.5),\n",
    "    10**(-2),\n",
    "]\n",
    "\n",
    "# xticks_lines_labels = [\n",
    "#     '  $\\gamma_%s$  \\n%s'%(i+1, f'{x:.0E}')\n",
    "#     for i, x in enumerate(xticks_lines)\n",
    "# ]\n",
    "xticks_lines_labels = [\n",
    "    '\\n%s'%(f'{x:.0E}')\n",
    "    for i, x in enumerate(xticks_lines)\n",
    "]"
   ]
  },
  {
   "cell_type": "code",
   "execution_count": 42,
   "metadata": {},
   "outputs": [
    {
     "data": {
      "image/png": "[encoded data removed]",
      "text/plain": [
       "<Figure size 1224x590.4 with 1 Axes>"
      ]
     },
     "metadata": {},
     "output_type": "display_data"
    }
   ],
   "source": [
    "# xticks = np.logspace(-5, -2, 4)\n",
    "xticks = np.array(xticks_lines)\n",
    "yticks = np.linspace(0,1,6)\n",
    "yticks_labels = ['%s%%'%(int(100*(y))) for y in yticks]\n",
    "\n",
    "plt.figure(figsize=(17,8.2))\n",
    "\n",
    "plt.stackplot(global_contribution_consensus_df.index.astype(float),\n",
    "              global_contribution_consensus_df.values.T, \n",
    "              labels=global_contribution_consensus_df.columns,alpha=0.75)\n",
    "\n",
    "for i, (x, x_lab) in enumerate(zip(xticks_lines, xticks_lines_labels)):\n",
    "    plt.vlines(x, 0, 1, linewidth=3)\n",
    "\n",
    "plt.legend(loc='upper left', bbox_to_anchor=(1.05, 1), fontsize=15, ncol=2)\n",
    "plt.xscale('log')\n",
    "plt.xticks(0.8*xticks, xticks_lines_labels, fontsize=30, rotation='vertical', color='black')\n",
    "plt.grid(True)\n",
    "plt.yticks(yticks, yticks_labels, fontsize=25)\n",
    "plt.xlim(min(xticks)*.3, xticks[-1]*1.2)\n",
    "plt.ylim(0,1.01)\n",
    "plt.ylabel('Geometric proportion \\n of linear and non-linear terms \\n in consensus features',\n",
    "           fontsize=30,\n",
    "           color='black')\n",
    "plt.xlabel('$\\gamma$', fontsize=35, color='black')\n",
    "plt.tight_layout()\n",
    "\n",
    "plt.savefig('figures/stacked_figure_contribution_annotated_n_pv_%s.png'%(n_pv), dpi=300)\n",
    "plt.show()"
   ]
  }
 ],
 "metadata": {
  "kernelspec": {
   "display_name": "Python (precise_plus_figures)",
   "language": "python",
   "name": "precise_plus_figures"
  },
  "language_info": {
   "codemirror_mode": {
    "name": "ipython",
    "version": 3
   },
   "file_extension": ".py",
   "mimetype": "text/x-python",
   "name": "python",
   "nbconvert_exporter": "python",
   "pygments_lexer": "ipython3",
   "version": "3.6.10"
  }
 },
 "nbformat": 4,
 "nbformat_minor": 4
}
