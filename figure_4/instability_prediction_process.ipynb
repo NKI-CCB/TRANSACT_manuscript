{
 "cells": [
  {
   "cell_type": "markdown",
   "metadata": {},
   "source": [
    "# Process results on instability prediction"
   ]
  },
  {
   "cell_type": "code",
   "execution_count": null,
   "metadata": {},
   "outputs": [],
   "source": [
    "import os, sys\n",
    "import numpy as np\n",
    "import matplotlib.pyplot as plt\n",
    "import pandas as pd\n",
    "import seaborn as sns\n",
    "import scipy\n",
    "from copy import deepcopy\n",
    "from pickle import load\n",
    "import re\n",
    "from sklearn.preprocessing import StandardScaler\n",
    "import random\n",
    "from ast import literal_eval as make_tuple\n",
    "from sklearn.pipeline import Pipeline\n",
    "import torch\n",
    "from torch.autograd import Variable\n",
    "import torch.nn.functional as F\n",
    "import torch.utils.data as Data\n",
    "from torch.utils.data import Dataset, TensorDataset, DataLoader\n",
    "from torch.utils.data.dataset import random_split\n",
    "from skorch import NeuralNetClassifier, NeuralNetRegressor\n",
    "from combat.pycombat import pycombat\n",
    "\n",
    "sys.path.insert(0, '../read_data/')\n",
    "from read_data import read_data\n",
    "from read_GDSC_response import read_GDSC_response\n",
    "import library_size_normalization\n",
    "\n",
    "from matplotlib import font_manager as fm, rcParams\n",
    "fpath = os.path.join(rcParams[\"datapath\"], \"fonts/ttf/arial.ttf\")\n",
    "prop_label = fm.FontProperties(fname=fpath)\n",
    "prop_label.set_size(30)\n",
    "prop_ticks = fm.FontProperties(fname=fpath)\n",
    "prop_ticks.set_size(25)\n",
    "fname = os.path.split(fpath)[1]\n",
    "\n",
    "sys.path.insert(0, '../src/')\n",
    "from clf_utils import make_network, make_drug_folder\n",
    "from cv_results_processing import parse_folder_results, read_best_param, make_skorch_network\n",
    "\n",
    "\n",
    "sns.set_style(\"whitegrid\")\n",
    "sns.set_context('paper')\n",
    "\n",
    "data_type = 'TCGA'\n",
    "baseline = 'baseline_C'\n",
    "test = 'Mann-Whitney-ls'\n",
    "\n",
    "figure_folder = './figures/%s/'%(baseline)"
   ]
  },
  {
   "cell_type": "markdown",
   "metadata": {},
   "source": [
    "## Neural network results"
   ]
  },
  {
   "cell_type": "code",
   "execution_count": null,
   "metadata": {},
   "outputs": [],
   "source": [
    "relevant_folders = [f for f in os.listdir(results_folder) if os.path.isdir(results_folder + f)]"
   ]
  },
  {
   "cell_type": "code",
   "execution_count": null,
   "metadata": {},
   "outputs": [],
   "source": [
    "rank_scores_df = {}\n",
    "\n",
    "for drug_folder in relevant_folders:\n",
    "    files = os.listdir(results_folder + drug_folder)\n",
    "    unique_training_ids = [re.search('ID_([a-z0-9]*)_', f) for f in files]\n",
    "    unique_training_ids = [e.group(0).replace('ID_', '').replace('_', '') \n",
    "                           for e in unique_training_ids if e is not None]\n",
    "    unique_training_ids = np.unique(unique_training_ids).astype(str)\n",
    "    print(len(unique_training_ids))\n",
    "    \n",
    "    # Load results\n",
    "    global_rank_df = pd.DataFrame()\n",
    "    all_rank_files = {training_id:[e for e in files \n",
    "                                    if (training_id in e) and (test in e) and ('ustat.txt' in e)][0]\n",
    "                      for training_id in unique_training_ids}\n",
    "    all_rank_scores = {\n",
    "        training_id: pd.read_csv(results_folder + '/' + drug_folder + '/' + f, \n",
    "                                 header=None if data_type == 'TCGA' else 0,\n",
    "                                 index_col=0)\n",
    "        for training_id, f in all_rank_files.items()\n",
    "    }\n",
    "    all_rank_scores = {\n",
    "        training_id: df[1] if data_type == 'TCGA' else df['PR-PD']\n",
    "        for training_id, df in all_rank_scores.items()\n",
    "    }\n",
    "    rank_scores_df[drug_folder] = pd.DataFrame(all_rank_scores).T\n",
    "    rank_scores_df[drug_folder]['AUC'] = rank_scores_df[drug_folder]['ustat'] / rank_scores_df[drug_folder]['product_samples']"
   ]
  },
  {
   "cell_type": "markdown",
   "metadata": {},
   "source": [
    "### Load TRANSACT results"
   ]
  },
  {
   "cell_type": "code",
   "execution_count": null,
   "metadata": {},
   "outputs": [],
   "source": [
    "transact_results_file = './figures/%s_ustat_summary.csv'%(data_type)\n",
    "transact_df = pd.read_csv(transact_results_file).dropna()\n",
    "transact_df['drug'] = 'GDSC_' +\\\n",
    "                    transact_df['GDSC_drug'] + \\\n",
    "                    '_%s_'%(data_type) + \\\n",
    "                    transact_df['%s_drug'%(data_type)].apply(lambda x: re.sub(r'[0-9]*$', '', x))"
   ]
  },
  {
   "cell_type": "markdown",
   "metadata": {},
   "source": [
    "### Plot different target results on boxplots"
   ]
  },
  {
   "cell_type": "code",
   "execution_count": null,
   "metadata": {},
   "outputs": [],
   "source": [
    "palette = 'Spectral'\n",
    "\n",
    "if data_type == 'TCGA':\n",
    "    fig = plt.figure(figsize=(12,8))\n",
    "else:\n",
    "    fig = plt.figure(figsize=(5,8))\n",
    "    \n",
    "drug_AUC_df = {f:df['AUC'].values for f, df in rank_scores_df.items()}\n",
    "min_length = np.min([e.shape[0] for e in drug_AUC_df.values()])\n",
    "drug_AUC_df = {f:df[:min_length] for f,df in drug_AUC_df.items()}\n",
    "drug_AUC_df = pd.DataFrame(drug_AUC_df).melt()\n",
    "AUC_order = transact_df.set_index('drug')['(\\'TRANSACT\\', \\'AUC\\')'].sort_values(ascending=True).index\n",
    "ax = sns.swarmplot(x='variable',\n",
    "                   y='value',\n",
    "                   data=drug_AUC_df,\n",
    "                   order=AUC_order,\n",
    "                   alpha=0.5,\n",
    "                   color='green',\n",
    "                   label='Deep Learning')\n",
    "\n",
    "sns.boxplot(data=drug_AUC_df, x='variable', y='value',\n",
    "            order=AUC_order,\n",
    "            color='green',\n",
    "            linewidth=2.,\n",
    "            width=.8,\n",
    "            whis=[5,95],\n",
    "            showfliers=False,\n",
    "            boxprops=dict(alpha=.6))\n",
    "\n",
    "plt.plot(transact_df.set_index('drug').loc[AUC_order]['(\\'TRANSACT\\', \\'AUC\\')'],\n",
    "         linewidth=3,\n",
    "         marker='P',\n",
    "         markersize=10,\n",
    "         label='TRANSACT')\n",
    "\n",
    "plt.xticks(fontsize=15, rotation='vertical', color='black')\n",
    "ax.xaxis.set_ticklabels([e.replace('GDSC_', 'GDSC:').replace('%s_'%(data_type), '%s:'%(data_type)).replace('_', '\\n')\n",
    "                         for e in AUC_order])\n",
    "plt.xlabel(None)\n",
    "\n",
    "plt.ylabel('Area under ROC (%s)'%(data_type), fontsize=25, color='black')\n",
    "plt.yticks(fontsize=15, color='black')\n",
    "handles, labels = plt.gca().get_legend_handles_labels()\n",
    "by_label = dict(zip(labels, handles))\n",
    "if data_type == 'TCGA':\n",
    "    plt.legend(by_label.values(), by_label.keys(), fontsize=20)\n",
    "else:\n",
    "    pass\n",
    "plt.tight_layout()\n",
    "plt.savefig('%s/DL_instability_results_%s_iter_%s.png'%(figure_folder, data_type, min_length),\n",
    "            dpi=300)"
   ]
  },
  {
   "cell_type": "markdown",
   "metadata": {},
   "source": [
    "## Correlation between results on GDSC and target\n",
    "Does good results on GDSC imply good results on target ? Or is there a lot of local minima ?\n",
    "### Load data"
   ]
  },
  {
   "cell_type": "code",
   "execution_count": null,
   "metadata": {},
   "outputs": [],
   "source": [
    "# Data\n",
    "tissues = {\n",
    "    'GDSC': ['All'],\n",
    "    data_type: [data_type if data_type=='TCGA' else 'all']\n",
    "}\n",
    "projects = {\n",
    "    'GDSC': [None],\n",
    "    data_type: ['all' if data_type=='TCGA' else None]\n",
    "}\n",
    "\n",
    "data_types = ['rnaseq']\n",
    "data_sources = ['GDSC', data_type]\n",
    "genes_filtering = 'mini'\n",
    "data_normalization = 'library_size' # Can be TPM, \"library_size\" or \"log\". Else will not have any influence.\n",
    "source = 'GDSC'\n",
    "target = data_type"
   ]
  },
  {
   "cell_type": "code",
   "execution_count": null,
   "metadata": {},
   "outputs": [],
   "source": [
    "if 'baseline_B' in figure_folder:\n",
    "    data_df = read_data(tissues=tissues,\n",
    "                        data_types=[e for e in data_types],\n",
    "                        projects=projects,\n",
    "                        data_sources=data_sources,\n",
    "                        folder_basis='../data/')\n",
    "    data_df = data_df['GDSC']\n",
    "\n",
    "    # Harmonize and process\n",
    "    while type(data_df) == dict:\n",
    "        keys = data_df.keys()\n",
    "        if len(keys) != 1:\n",
    "            print('WARNING')\n",
    "            break\n",
    "        data_df = data_df[list(keys)[0]]\n",
    "\n",
    "    GE_normalized = library_size_normalization.TMM_normalization(data_df.values.astype(float))\n",
    "    GE_normalized = np.array(GE_normalized)\n",
    "    GE_normalized = np.log(np.array(GE_normalized)+1)\n",
    "    data_df = pd.DataFrame(GE_normalized,\n",
    "                           columns=data_df.columns,\n",
    "                           index=data_df.index)\n",
    "\n",
    "    # Standardization and processing:\n",
    "    scaler = StandardScaler(with_mean=True, with_std=True)\n",
    "    data_df = pd.DataFrame(scaler.fit_transform(data_df),\n",
    "                           index=data_df.index,\n",
    "                           columns=data_df.columns)\n",
    "    \n",
    "elif 'baseline_C' in figure_folder:\n",
    "    data_df = read_data(tissues=tissues,\n",
    "                            data_types=[e for e in data_types],\n",
    "                            projects=projects,\n",
    "                            data_sources=data_sources,\n",
    "                            folder_basis='../data/')\n",
    "    \n",
    "    for ds in list(data_df.keys()):\n",
    "        assert len(data_df[ds].keys()) == 1\n",
    "        new_key = ('%s_%s'%(ds, list(data_df[ds].keys())[0])).replace('fpkm', 'tpm')\n",
    "        data_df[new_key] = data_df[ds][list(data_df[ds].keys())[0]]\n",
    "        del data_df[ds]\n",
    "\n",
    "    source_data_key = [ds for ds in data_df if source in ds]\n",
    "    assert len(source_data_key) == 1\n",
    "    source_data_key = np.unique(source_data_key)[0]\n",
    "\n",
    "    target_data_key = [ds for ds in data_df if target in ds]\n",
    "    assert len(target_data_key) == 1\n",
    "    target_data_key = np.unique(target_data_key)[0]\n",
    "\n",
    "    # Removing the healthy samples\n",
    "    healthy_samples_index = data_df[target_data_key].index.str.contains(r'-(10A|11A)-')\n",
    "    data_df[target_data_key] = data_df[target_data_key].loc[~healthy_samples_index]\n",
    "    \n",
    "    for ds in list(data_df.keys()):\n",
    "        GE_normalized = library_size_normalization.TMM_normalization(data_df[ds].values.astype(float))\n",
    "        GE_normalized = np.array(GE_normalized)\n",
    "        GE_normalized = np.log(np.array(GE_normalized)+1)\n",
    "        data_df[ds] = pd.DataFrame(GE_normalized,\n",
    "                                   columns=data_df[ds].columns,\n",
    "                                   index=data_df[ds].index)\n",
    "    \n",
    "    \n",
    "    # remove some genes to avoid ComBat to collapse\n",
    "    number_top_genes = 1700\n",
    "\n",
    "    top_source_variable_genes = pd.DataFrame(np.var(data_df[source_data_key]), columns=['variance'])\n",
    "    top_source_variable_genes = top_source_variable_genes.sort_values('variance', ascending=False)\n",
    "    top_source_variable_genes = top_source_variable_genes.head(number_top_genes).index\n",
    "    top_target_variable_genes = pd.DataFrame(np.var(data_df[target_data_key]), columns=['variance'])\n",
    "    top_target_variable_genes = top_target_variable_genes.sort_values('variance', ascending=False)\n",
    "    top_target_variable_genes = top_target_variable_genes.head(number_top_genes).index\n",
    "    top_variable_genes = np.intersect1d(top_source_variable_genes, top_target_variable_genes)\n",
    "\n",
    "    for d in data_df:\n",
    "        data_df[d] = data_df[d][top_variable_genes]\n",
    "        \n",
    "    \n",
    "    ## Correct with ComBat\n",
    "    data_corrected = pycombat(pd.concat(list(data_df.values())).T,\n",
    "                             [1]*data_df[source_data_key].shape[0] + [2]*data_df[target_data_key].shape[0])\n",
    "\n",
    "    normalized_data_df = {\n",
    "        k : data_corrected[data_df[k].index].T\n",
    "        for k in data_df\n",
    "    }\n",
    "    normalized_data_df[source_data_key].index = pd.MultiIndex.from_tuples(normalized_data_df[source_data_key].index)\n",
    "    data_df = normalized_data_df[source_data_key]\n",
    "\n",
    "# # Response\n",
    "unique_drugs = None\n",
    "GDSC_drug_response_frames = {}\n",
    "for x in ['GDSC2', 'GDSC1']:\n",
    "    GDSC_drug_response_file = '../data/GDSC/response/%s_fitted_dose_response_25Feb20.xlsx'%(x)\n",
    "    GDSC_drug_response_frames[x] = pd.read_excel(GDSC_drug_response_file)\n",
    "    if unique_drugs is None:\n",
    "        unique_drugs = np.unique(GDSC_drug_response_frames[x]['DRUG_NAME'])\n",
    "    else:\n",
    "        unique_drugs = np.concatenate([unique_drugs, np.unique(GDSC_drug_response_frames[x]['DRUG_NAME'])])"
   ]
  },
  {
   "cell_type": "markdown",
   "metadata": {},
   "source": [
    "### Compare MSE on GDSC (source) to AUC on TCGA/HMF (target)"
   ]
  },
  {
   "cell_type": "code",
   "execution_count": null,
   "metadata": {},
   "outputs": [],
   "source": [
    "if data_type == 'TCGA':\n",
    "    drug_list =[\n",
    "        ('Oxaliplatin', 1806, 'Oxaliplatin'),\n",
    "        ('Cisplatin', None, 'Cisplatin'),\n",
    "        ('Cisplatin', None, 'Carboplatin'),\n",
    "        ('Afatinib', None, 'Trastuzumab'),\n",
    "        ('Gemcitabine', None, 'Gemcitabine'),\n",
    "        ('Paclitaxel', None, 'Paclitaxel'),\n",
    "        ('Vinorelbine', None, 'Vinorelbine'),\n",
    "        ('5-Fluorouracil', None, 'Fluorouracil'),\n",
    "        ('Temozolomide', None, 'Temozolomide'),\n",
    "        ('Doxorubicin', 133, 'Doxorubicin'),\n",
    "        ('Docetaxel', 1819, 'Docetaxel'),\n",
    "        ('Cyclophosphamide', None, 'Cyclophosphamide'),\n",
    "        ('Etoposide', None, 'Etoposide'),\n",
    "        ('Bleomycin', None, 'Bleomycin'),\n",
    "        ('Pemetrexed', None, 'Pemetrexed'),\n",
    "        ('Irinotecan', None, 'Irinotecan'),\n",
    "        ('Cetuximab', None, 'Cetuximab'),\n",
    "    ]\n",
    "else:\n",
    "    drug_list =[\n",
    "        ('Cisplatin', None, 'Carboplatin'),\n",
    "        ('Afatinib', None, 'Trastuzumab'),\n",
    "        ('Gemcitabine', None, 'Gemcitabine'),\n",
    "        ('Paclitaxel', None, 'Paclitaxel'),\n",
    "        ('5-Fluorouracil', None, 'Fluorouracil'),\n",
    "        ('Irinotecan', None, 'Irinotecan'),\n",
    "    ]"
   ]
  },
  {
   "cell_type": "code",
   "execution_count": null,
   "metadata": {},
   "outputs": [],
   "source": [
    "performance_GDSC_df = {}\n",
    "predictions_all_drugs = {}\n",
    "\n",
    "for GDSC_drug_name, GDSC_drug_ID, target_drug_name in drug_list:\n",
    "    print(GDSC_drug_name, target_drug_name)\n",
    "    X_source_response, y_source = read_GDSC_response(GDSC_drug_response_frames,\n",
    "                                                     GDSC_drug_name,\n",
    "                                                     data_df, GDSC_drug_ID)\n",
    "    \n",
    "    # Read drug gile\n",
    "    drug_folder = [f for f in os.listdir(results_folder) \n",
    "                   if os.path.isdir(results_folder + f) \n",
    "                   and ('GDSC_%s'%(GDSC_drug_name) in f)\n",
    "                   and ('%s_%s'%(data_type, target_drug_name) in f)]\n",
    "\n",
    "    if len(drug_folder) != 1:\n",
    "        print('WARNING: MORE THAN ONE FOLDER')\n",
    "        print(drug_folder)\n",
    "        del drug_folder\n",
    "    else:\n",
    "        drug_folder = drug_folder[0]\n",
    "        \n",
    "    clf_files = os.listdir(results_folder + drug_folder)\n",
    "    clf_files = [f for f in clf_files if 'clf_' in f and '.pkl' in f]\n",
    "    predictions = {}\n",
    "    for f in clf_files:\n",
    "        training_id = f.replace('clf_', '').replace('.pkl', '')\n",
    "        clf = load(open('%s/%s/%s'%(results_folder, drug_folder, f), 'rb'))\n",
    "        predictions[training_id] = clf.predict(X_source_response.values.astype(np.float32))\n",
    "    predictions_all_drugs[drug_folder] = deepcopy(predictions)\n",
    "        \n",
    "    # Pred perf as pearson cor or mean squared error\n",
    "    performance_GDSC = {\n",
    "        training_id: [\n",
    "            scipy.stats.pearsonr(p.flatten(), y_source['AUC'].values)[0],\n",
    "            np.mean(np.square(p.flatten() - y_source['AUC'].values))\n",
    "        ]\n",
    "        for training_id, p in predictions.items()\n",
    "    }\n",
    "\n",
    "    performance_GDSC_df[drug_folder] = pd.DataFrame(performance_GDSC).T\n",
    "    performance_GDSC_df[drug_folder].columns = ['corr', 'MSE']\n",
    "\n",
    "    performance_GDSC_df[drug_folder] = performance_GDSC_df[drug_folder].merge(rank_scores_df[drug_folder],\n",
    "                                                                              left_index=True, \n",
    "                                                                              right_index=True)\n",
    "    \n",
    "    plt.figure(figsize=(7,5))\n",
    "    sns.scatterplot(data=performance_GDSC_df[drug_folder], x='MSE', y='AUC', s=75, marker='X')\n",
    "    plt.xticks(fontsize=15)\n",
    "    plt.yticks(fontsize=15)\n",
    "    plt.xlabel('Mean squared error (GDSC)', fontsize=25, color='black')\n",
    "    plt.ylabel('AUC (%s)'%(target_drug_name), fontsize=25, color='black')\n",
    "    plt.title(GDSC_drug_name, fontsize=25, color='black')\n",
    "    plt.savefig('%s/%s/GDSC_MSE_%s_AUC.png'%(results_folder, drug_folder, data_type), dpi=300)\n",
    "    plt.show()\n",
    "    \n",
    "    plt.figure(figsize=(7,5))\n",
    "    sns.scatterplot(data=performance_GDSC_df[drug_folder], x='corr', y='AUC', s=75, marker='X')\n",
    "    plt.xticks(fontsize=15)\n",
    "    plt.yticks(fontsize=15)\n",
    "    plt.xlabel('Pearson correlation (GDSC)', fontsize=25, color='black')\n",
    "    plt.ylabel('AUC (%s)'%(target_drug_name), fontsize=25, color='black')\n",
    "    plt.title(GDSC_drug_name, fontsize=25, color='black')\n",
    "    plt.savefig('%s/%s/GDSC_pearson_%s_AUC.png'%(results_folder, drug_folder, data_type), dpi=300)\n",
    "    plt.show()"
   ]
  },
  {
   "cell_type": "code",
   "execution_count": null,
   "metadata": {},
   "outputs": [],
   "source": [
    "corr_df = {\n",
    "    d: df.corr()['AUC'].loc[['MSE', 'corr']]\n",
    "    for d, df in performance_GDSC_df.items()\n",
    "}\n",
    "corr_df = pd.DataFrame(corr_df).T"
   ]
  },
  {
   "cell_type": "code",
   "execution_count": null,
   "metadata": {},
   "outputs": [],
   "source": [
    "if data_type == 'TCGA':\n",
    "    fig = (12,9)\n",
    "else:\n",
    "    fig = (6,9)\n",
    "    \n",
    "ax = corr_df.sort_values('MSE').plot.bar(y=['MSE'], figsize=fig)\n",
    "ax.xaxis.set_ticklabels([e.replace('GDSC_', 'GDSC:').replace('%s_'%(data_type), '%s:'%(data_type)).replace('_', '\\n')\n",
    "                         for e in corr_df.sort_values('MSE').index])\n",
    "plt.xticks(fontsize=15, color='black')\n",
    "plt.yticks(fontsize=15, color='black')\n",
    "plt.ylabel('Correlation between \\n MSE (GDSC) and ROC AUC (%s)'%(data_type), fontsize=25, color='black')\n",
    "plt.ylim(-1,1)\n",
    "ax.get_legend().remove()\n",
    "plt.tight_layout()\n",
    "plt.savefig('%s/corr_GDSC_MSE_%s_AUC.png'%(figure_folder, data_type), dpi=300)"
   ]
  },
  {
   "cell_type": "markdown",
   "metadata": {},
   "source": [
    "### Select best classifier on GDSC and apply it on target"
   ]
  },
  {
   "cell_type": "code",
   "execution_count": null,
   "metadata": {},
   "outputs": [],
   "source": [
    "best_GDSC_results = {}\n",
    "\n",
    "for drug_folder in performance_GDSC_df:\n",
    "    best_mse_row = performance_GDSC_df[drug_folder].sort_values('MSE').head(1).values.astype(np.float64)\n",
    "    best_GDSC_results[drug_folder] = best_mse_row.flatten()\n",
    "\n",
    "best_GDSC_results = pd.DataFrame.from_dict(best_GDSC_results).T\n",
    "best_GDSC_results.columns = performance_GDSC_df[drug_folder].columns\n",
    "\n",
    "best_GDSC_results.to_csv('%s/%s_results_best_GDSC_MSE.csv'%(figure_folder, data_type))"
   ]
  },
  {
   "cell_type": "markdown",
   "metadata": {},
   "source": [
    "### Select median classifier"
   ]
  },
  {
   "cell_type": "code",
   "execution_count": null,
   "metadata": {},
   "outputs": [],
   "source": [
    "median_GDSC_results = {}\n",
    "\n",
    "for drug_folder in performance_GDSC_df:\n",
    "    n_median = performance_GDSC_df[drug_folder].shape[0]\n",
    "    median_mse_row = performance_GDSC_df[drug_folder].sort_values('AUC', ascending=False).iloc[n_median // 2].values.astype(np.float64)\n",
    "    median_GDSC_results[drug_folder] = median_mse_row.flatten()"
   ]
  },
  {
   "cell_type": "code",
   "execution_count": null,
   "metadata": {},
   "outputs": [],
   "source": [
    "median_GDSC_results = pd.DataFrame.from_dict(median_GDSC_results).T\n",
    "median_GDSC_results.columns = performance_GDSC_df[drug_folder].columns\n",
    "\n",
    "median_GDSC_results.to_csv('%s/%s_results_median_GDSC_MSE.csv'%(figure_folder, data_type))"
   ]
  },
  {
   "cell_type": "markdown",
   "metadata": {},
   "source": [
    "### Comparison of predictions between classifiers"
   ]
  },
  {
   "cell_type": "code",
   "execution_count": null,
   "metadata": {},
   "outputs": [],
   "source": [
    "drug_key = 'GDSC_Gemcitabine_HMF_Gemcitabine'\n",
    "pred_corr = [[scipy.stats.pearsonr(e.flatten(),f.flatten())[0] for e in predictions_all_drugs[drug_key].values()]\n",
    "             for f in predictions_all_drugs[drug_key].values()]\n",
    "pred_mse = [[np.mean(np.square(e.flatten() - f.flatten())) for e in predictions_all_drugs[drug_key].values()]\n",
    "             for f in predictions_all_drugs[drug_key].values()]\n",
    "\n",
    "pred_mse = pd.DataFrame(pred_mse,\n",
    "                        columns=predictions_all_drugs[drug_key].keys(),\n",
    "                        index=predictions_all_drugs[drug_key].keys())\n",
    "pred_corr = pd.DataFrame(pred_corr,\n",
    "                        columns=predictions_all_drugs[drug_key].keys(),\n",
    "                        index=predictions_all_drugs[drug_key].keys())"
   ]
  },
  {
   "cell_type": "code",
   "execution_count": null,
   "metadata": {},
   "outputs": [],
   "source": []
  },
  {
   "cell_type": "code",
   "execution_count": null,
   "metadata": {},
   "outputs": [],
   "source": [
    "for e in predictions_all_drugs[drug_key].values():\n",
    "    for f in predictions_all_drugs[drug_key].values():\n",
    "        print(list(zip(e.flatten(), f.flatten())))\n",
    "        print('\\n\\n\\n')"
   ]
  },
  {
   "cell_type": "code",
   "execution_count": null,
   "metadata": {},
   "outputs": [],
   "source": [
    "pred_mse = pred_mse.merge(performance_GDSC_df[drug_key],\n",
    "                          left_index=True,\n",
    "                          right_index=True)\n",
    "pred_corr = pred_corr.merge(performance_GDSC_df[drug_key],\n",
    "                          left_index=True,\n",
    "                          right_index=True)"
   ]
  },
  {
   "cell_type": "code",
   "execution_count": null,
   "metadata": {},
   "outputs": [],
   "source": [
    "for k in pred_mse.index:\n",
    "    sns.distplot(pred_mse[k])\n",
    "    plt.axvline(pred_mse.loc[k]['MSE'])\n",
    "    plt.show()"
   ]
  },
  {
   "cell_type": "code",
   "execution_count": null,
   "metadata": {},
   "outputs": [],
   "source": [
    "predictions_all_drugs[drug_key] = {k:f.flatten() for k,f in predictions_all_drugs[drug_key].items()}\n",
    "pred_df = pd.DataFrame(predictions_all_drugs[drug_key])\n",
    "for"
   ]
  },
  {
   "cell_type": "markdown",
   "metadata": {},
   "source": [
    "### Random prediction"
   ]
  },
  {
   "cell_type": "code",
   "execution_count": null,
   "metadata": {},
   "outputs": [],
   "source": [
    "random_data = np.random.normal(size=(200,data_df.shape[1]))"
   ]
  },
  {
   "cell_type": "code",
   "execution_count": null,
   "metadata": {},
   "outputs": [],
   "source": [
    "random_predictions_all_drugs = {}\n",
    "\n",
    "for GDSC_drug_name, GDSC_drug_ID, TCGA_drug_name in drug_list:\n",
    "    print(GDSC_drug_name, TCGA_drug_name)\n",
    "    X_source_response, y_source = read_GDSC_response(GDSC_drug_response_frames,\n",
    "                                                     GDSC_drug_name,\n",
    "                                                     data_df, GDSC_drug_ID)\n",
    "    \n",
    "    # Read drug gile\n",
    "    drug_folder = [f for f in os.listdir(results_folder) \n",
    "                   if os.path.isdir(results_folder + f) \n",
    "                   and ('GDSC_%s'%(GDSC_drug_name) in f)\n",
    "                   and ('TCGA_%s'%(TCGA_drug_name) in f)]\n",
    "\n",
    "    if len(drug_folder) != 1:\n",
    "        print('WARNING: MORE THAN ONE FOLDER')\n",
    "        print(drug_folder)\n",
    "        del drug_folder\n",
    "    else:\n",
    "        drug_folder = drug_folder[0]\n",
    "        \n",
    "    clf_files = os.listdir(results_folder + drug_folder)\n",
    "    clf_files = [f for f in clf_files if 'clf_' in f and '.pkl' in f]\n",
    "    predictions = {}\n",
    "    for f in clf_files:\n",
    "        training_id = f.replace('clf_', '').replace('.pkl', '')\n",
    "        clf = load(open('%s/%s/%s'%(results_folder, drug_folder, f), 'rb'))\n",
    "        predictions[training_id] = clf.predict(random_data.astype(np.float32))\n",
    "    random_predictions_all_drugs[drug_folder] = deepcopy(predictions)"
   ]
  },
  {
   "cell_type": "code",
   "execution_count": null,
   "metadata": {},
   "outputs": [],
   "source": [
    "drug_key = 'GDSC_Gemcitabine_TCGA_Gemcitabine'\n",
    "random_predictions_all_drugs[drug_key] = {k:l.flatten() for k,l in random_predictions_all_drugs[drug_key].items()}\n",
    "random_pred_corr = [[scipy.stats.pearsonr(e.flatten(),f.flatten())[0] \n",
    "                     for e in random_predictions_all_drugs[drug_key].values()]\n",
    "                    for f in random_predictions_all_drugs[drug_key].values()]\n",
    "random_pred_mse = [[np.mean(np.square(e.flatten() - f.flatten()))\n",
    "                    for e in random_predictions_all_drugs[drug_key].values()]\n",
    "                   for f in random_predictions_all_drugs[drug_key].values()]\n",
    "\n",
    "random_predictions_df = pd.DataFrame(random_predictions_all_drugs[drug_key])"
   ]
  },
  {
   "cell_type": "code",
   "execution_count": null,
   "metadata": {},
   "outputs": [],
   "source": [
    "sns.distplot(random_pred_mse)"
   ]
  },
  {
   "cell_type": "code",
   "execution_count": null,
   "metadata": {},
   "outputs": [],
   "source": [
    "for e in random_predictions_df.values.T:\n",
    "    sns.distplot(e)\n",
    "    plt.show()"
   ]
  },
  {
   "cell_type": "markdown",
   "metadata": {},
   "source": [
    "### Compare MSE to random init"
   ]
  },
  {
   "cell_type": "code",
   "execution_count": null,
   "metadata": {},
   "outputs": [],
   "source": [
    "if baseline == 'baseline_B':\n",
    "    output_cv_folder = '../deep_learning_CV/output/GDSC_only/'\n",
    "elif baseline == 'baseline_C':\n",
    "    output_cv_folder = '../deep_learning_CV/output/GDSC_to_%s/'%(data_type)\n",
    "    \n",
    "random_state = 183627362"
   ]
  },
  {
   "cell_type": "code",
   "execution_count": null,
   "metadata": {},
   "outputs": [],
   "source": [
    "for GDSC_drug_name, GDSC_drug_ID, target_drug_name in drug_list:\n",
    "    perf = []\n",
    "    X_source_response, y_source = read_GDSC_response(GDSC_drug_response_frames,\n",
    "                                                     GDSC_drug_name,\n",
    "                                                     data_df, GDSC_drug_ID)\n",
    "    drug_folder = 'GDSC_%s_%s_%s'%(GDSC_drug_name, data_type, target_drug_name)\n",
    "    \n",
    "    \n",
    "    cv_folder = output_cv_folder + GDSC_drug_name + ('_centered_standardized' if baseline == 'baseline_B' else '')\n",
    "    param = read_best_param(cv_folder, random_state)\n",
    "\n",
    "    # Train network\n",
    "    param['n_input'] = X_source_response.shape[1]\n",
    "    for idx in range(20):\n",
    "        print(idx)\n",
    "        net = make_network(param)\n",
    "        net = NeuralNetRegressor(\n",
    "            net,\n",
    "            max_epochs=param['n_epochs'],\n",
    "            lr=param['learning_rate'],\n",
    "            batch_size=param['batch_size'],\n",
    "            device= 'cuda' if torch.cuda.is_available() else 'cpu',\n",
    "            optimizer=torch.optim.SGD,\n",
    "            optimizer__momentum=param['momentum'],\n",
    "            optimizer__weight_decay=param['l2_penalty'],\n",
    "            iterator_train__shuffle = True,\n",
    "            verbose=0\n",
    "        )\n",
    "        pipeline = Pipeline([\n",
    "            ('net', net)\n",
    "        ])\n",
    "        net.initialize()\n",
    "        perf.append(np.mean(np.square(net.predict(X_source_response.values.astype(np.float32)).flatten() - y_source['AUC'])))\n",
    "    break"
   ]
  },
  {
   "cell_type": "markdown",
   "metadata": {},
   "source": [
    "## Processing of cross-validation results"
   ]
  },
  {
   "cell_type": "code",
   "execution_count": null,
   "metadata": {},
   "outputs": [],
   "source": [
    "cv_results = {}\n",
    "for files in os.walk(results_folder):\n",
    "    relevant_files = [f for f in files[2] if 'cv_results' in f]\n",
    "    if len(relevant_files) >= 1:\n",
    "        cv_results[files[0].split('/')[-1]] = pd.read_csv(files[0] + '/' + relevant_files[0],\n",
    "                                                         header=[0,1],\n",
    "                                                          index_col=0)"
   ]
  },
  {
   "cell_type": "code",
   "execution_count": null,
   "metadata": {},
   "outputs": [],
   "source": [
    "with pd.ExcelWriter(figure_folder + 'cv_results.xlsx') as writer:  \n",
    "    for f in cv_results:\n",
    "        print(f)\n",
    "        cv_results[f].sort_values(('model', 'MSE')).to_excel(writer, sheet_name=f, engine='xlsxwriter')"
   ]
  }
 ],
 "metadata": {
  "kernelspec": {
   "display_name": "Python (precise_plus_figures)",
   "language": "python",
   "name": "precise_plus_figures"
  },
  "language_info": {
   "codemirror_mode": {
    "name": "ipython",
    "version": 3
   },
   "file_extension": ".py",
   "mimetype": "text/x-python",
   "name": "python",
   "nbconvert_exporter": "python",
   "pygments_lexer": "ipython3",
   "version": "3.6.10"
  }
 },
 "nbformat": 4,
 "nbformat_minor": 4
}
