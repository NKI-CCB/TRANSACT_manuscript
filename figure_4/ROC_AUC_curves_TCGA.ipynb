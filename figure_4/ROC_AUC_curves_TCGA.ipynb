{
 "cells": [
  {
   "cell_type": "markdown",
   "id": "784ce986",
   "metadata": {},
   "source": [
    "# Plot ROC AUC curves for TCGA\n",
    "In this notebook, we compute the ROC curves for PRECISE, ComBat+DL, DL and TRANSACT, for the TCGA drugs. The results are saved as figures, and ROC AUCs are saved for later processing."
   ]
  },
  {
   "cell_type": "code",
   "execution_count": null,
   "id": "8d756ff3",
   "metadata": {
    "scrolled": false
   },
   "outputs": [],
   "source": [
    "from tcga_imports import *"
   ]
  },
  {
   "cell_type": "markdown",
   "id": "ceecb3bd",
   "metadata": {},
   "source": [
    "## Parameters"
   ]
  },
  {
   "cell_type": "code",
   "execution_count": null,
   "id": "c6371100",
   "metadata": {},
   "outputs": [],
   "source": [
    "from tcga_settings import *"
   ]
  },
  {
   "cell_type": "code",
   "execution_count": null,
   "id": "c0d85fdc",
   "metadata": {},
   "outputs": [],
   "source": [
    "# General data folder\n",
    "figure_folder = './figures/'\n",
    "kernel_subfolder = kernel_surname\n",
    "if kernel_subfolder in os.listdir(figure_folder):\n",
    "    print('BEWARE: ALREADY COMPUTATION IN FIGURE FILE')\n",
    "else:\n",
    "    os.makedirs(figure_folder + kernel_subfolder)\n",
    "\n",
    "kernel_subfolder = figure_folder + kernel_subfolder"
   ]
  },
  {
   "cell_type": "markdown",
   "id": "2a78881c",
   "metadata": {},
   "source": [
    "## Read data"
   ]
  },
  {
   "cell_type": "code",
   "execution_count": null,
   "id": "9f2ffa6a",
   "metadata": {},
   "outputs": [],
   "source": [
    "data_df = read_data(tissues=tissues,\n",
    "                    data_types=[e for e in data_types],\n",
    "                    projects=projects,\n",
    "                    data_sources=data_sources,\n",
    "                    folder_basis='../data/')\n",
    "\n",
    "source_data_key, target_data_key = reformat_df(data_df, source, target)\n",
    "\n",
    "# Removing the healthy samples\n",
    "healthy_samples_index = data_df[target_data_key].index.str.contains(r'-(10A|11A)-')\n",
    "data_df[target_data_key] = data_df[target_data_key].loc[~healthy_samples_index]\n",
    "\n",
    "# Library size correction\n",
    "average_depth_global = 10**5\n",
    "for ds in list(data_df.keys()):\n",
    "    GE_normalized = library_size_normalization.TMM_normalization(data_df[ds].values.astype(float))\n",
    "    GE_normalized = np.array(GE_normalized)\n",
    "    average_depths = np.mean(np.sum(GE_normalized,1))\n",
    "    GE_normalized = GE_normalized / average_depths * average_depth_global\n",
    "    GE_normalized = np.log(np.array(GE_normalized)+1)\n",
    "    data_df[ds] = pd.DataFrame(GE_normalized,\n",
    "                               columns=data_df[ds].columns,\n",
    "                               index=data_df[ds].index)\n",
    "\n",
    "\n",
    "# Normalize data\n",
    "normalized_data_df = {\n",
    "    ds : StandardScaler(with_mean=with_mean, with_std=with_std).fit_transform(data_df[ds])\n",
    "    for ds in data_df\n",
    "}\n",
    "for ds in normalized_data_df:\n",
    "    normalized_data_df[ds] = pd.DataFrame(normalized_data_df[ds],\n",
    "                                         index=data_df[ds].index,\n",
    "                                         columns=data_df[ds].columns)"
   ]
  },
  {
   "cell_type": "markdown",
   "id": "2589c16b",
   "metadata": {},
   "source": [
    "### Response data"
   ]
  },
  {
   "cell_type": "code",
   "execution_count": null,
   "id": "4c85cd13",
   "metadata": {},
   "outputs": [],
   "source": [
    "unique_drugs = None\n",
    "GDSC_drug_response_frames = {}\n",
    "for x in ['GDSC2', 'GDSC1']:\n",
    "    GDSC_drug_response_file = '../data/GDSC/response/%s_fitted_dose_response_25Feb20.xlsx'%(x)\n",
    "    GDSC_drug_response_frames[x] = pd.read_excel(GDSC_drug_response_file)\n",
    "    if unique_drugs is None:\n",
    "        unique_drugs = np.unique(GDSC_drug_response_frames[x]['DRUG_NAME'])\n",
    "    else:\n",
    "        unique_drugs = np.concatenate([unique_drugs, np.unique(GDSC_drug_response_frames[x]['DRUG_NAME'])])\n",
    "\n",
    "# TCGA\n",
    "TCGA_drug_response_file = '../data/TCGA/response/response.csv'"
   ]
  },
  {
   "cell_type": "markdown",
   "id": "97b21698",
   "metadata": {},
   "source": [
    "## Alignment\n",
    "### TRANSACT"
   ]
  },
  {
   "cell_type": "code",
   "execution_count": null,
   "id": "146cf74e",
   "metadata": {},
   "outputs": [],
   "source": [
    "TRANSACT_clf = TRANSACT(kernel=kernel_name,\n",
    "                        kernel_params=kernel_param,\n",
    "                        n_components=number_pc,\n",
    "                        n_jobs=20,\n",
    "                        verbose=10)\n",
    "\n",
    "TRANSACT_clf.fit(normalized_data_df[source_data_key],\n",
    "                 normalized_data_df[target_data_key],  \n",
    "                 n_pv=n_pv,\n",
    "                 step=n_interpolation,\n",
    "                 with_interpolation=True)"
   ]
  },
  {
   "cell_type": "markdown",
   "id": "fdf5abe3",
   "metadata": {},
   "source": [
    "### PRECISE"
   ]
  },
  {
   "cell_type": "code",
   "execution_count": null,
   "id": "71207ff8",
   "metadata": {},
   "outputs": [],
   "source": [
    "PRECISE_clf = TRANSACT(kernel='linear',\n",
    "                       kernel_params={},\n",
    "                       n_components=number_pc,\n",
    "                       n_jobs=20,\n",
    "                       verbose=10)\n",
    "\n",
    "PRECISE_clf.fit(normalized_data_df[source_data_key],\n",
    "                normalized_data_df[target_data_key],\n",
    "                n_pv=n_pv,\n",
    "                with_interpolation=True)"
   ]
  },
  {
   "cell_type": "markdown",
   "id": "0e76e8e1",
   "metadata": {},
   "source": [
    "## Read drug response"
   ]
  },
  {
   "cell_type": "code",
   "execution_count": null,
   "id": "293b1bf3",
   "metadata": {},
   "outputs": [],
   "source": [
    "drug_list =[\n",
    "    ('Cisplatin', None, 'Cisplatin'),\n",
    "    ('Cisplatin', None, 'Carboplatin'),\n",
    "    ('Oxaliplatin', 1806, 'Oxaliplatin'),\n",
    "    ('Afatinib', None, 'Trastuzumab'),\n",
    "    ('Gemcitabine', None, 'Gemcitabine'),\n",
    "    ('Paclitaxel', None, 'Paclitaxel'),\n",
    "    ('Vinorelbine', None, 'Vinorelbine'),\n",
    "    ('5-Fluorouracil', None, 'Fluorouracil'),\n",
    "    ('Temozolomide', None, 'Temozolomide'),\n",
    "    ('Doxorubicin', 133, 'Doxorubicin'),\n",
    "    ('Docetaxel', 1819, 'Docetaxel'),\n",
    "    ('Cyclophosphamide', None, 'Cyclophosphamide'),\n",
    "    ('Etoposide', None, 'Etoposide'),\n",
    "    ('Bleomycin', None, 'Bleomycin'),\n",
    "    ('Pemetrexed', None, 'Pemetrexed'),\n",
    "    ('Irinotecan', None, 'Irinotecan'),\n",
    "    ('Cetuximab', None, 'Cetuximab'),\n",
    "]\n",
    "\n",
    "GDSC_drug_name, GDSC_drug_id, TCGA_drug_name = drug_list[0]\n",
    "GDSC_drug_name"
   ]
  },
  {
   "cell_type": "code",
   "execution_count": null,
   "id": "8a4f22d0",
   "metadata": {},
   "outputs": [],
   "source": [
    "X_source, y_source = read_GDSC_response(GDSC_drug_response_frames, \n",
    "                                        GDSC_drug_name,\n",
    "                                        normalized_data_df[source_data_key].copy(),\n",
    "                                        GDSC_drug_id)\n",
    "X_target, y_target = read_TCGA_response(TCGA_drug_name,\n",
    "                                        normalized_data_df[target_data_key].copy(),\n",
    "                                        TCGA_drug_response_file)"
   ]
  },
  {
   "cell_type": "markdown",
   "id": "e20674cb",
   "metadata": {},
   "source": [
    "## Compute predictions"
   ]
  },
  {
   "cell_type": "markdown",
   "id": "7fca3938",
   "metadata": {},
   "source": [
    "### Domain adaptation methods"
   ]
  },
  {
   "cell_type": "code",
   "execution_count": null,
   "id": "602ee496",
   "metadata": {},
   "outputs": [],
   "source": [
    "# Train predictor using TRANSACT consensus features.\n",
    "TRANSACT_clf.fit_predictor(X_source, y_source.values.flatten())"
   ]
  },
  {
   "cell_type": "code",
   "execution_count": null,
   "id": "f1b43c36",
   "metadata": {},
   "outputs": [],
   "source": [
    "# Train predictor using PRECISE consensus features.\n",
    "PRECISE_clf.fit_predictor(X_source, y_source.values.flatten())"
   ]
  },
  {
   "cell_type": "code",
   "execution_count": null,
   "id": "8756e306",
   "metadata": {},
   "outputs": [],
   "source": [
    "# Predict value\n",
    "def predict_tcga(clf):\n",
    "    y = clf.predict(X_target)\n",
    "    y_t = pd.DataFrame.copy(y_target)\n",
    "    y_t['predicted'] = np.array(y).astype(float)\n",
    "    y_t['RECIST'] = y_t['measure_of_response']\n",
    "\n",
    "    # Merge response data\n",
    "    y_t['measure_of_response'] = y_t['measure_of_response'].replace('Clinical Progressive Disease', 'Non Responder')\n",
    "    y_t['measure_of_response'] = y_t['measure_of_response'].replace('Stable Disease', 'Non Responder')\n",
    "    y_t['measure_of_response'] = y_t['measure_of_response'].replace('Partial Response', 'Responder')\n",
    "    y_t['measure_of_response'] = y_t['measure_of_response'].replace('Complete Response', 'Responder')\n",
    "    \n",
    "    return y_t\n",
    "\n",
    "y_target_transact_predicted = predict_tcga(TRANSACT_clf)\n",
    "y_target_precise_predicted = predict_tcga(PRECISE_clf)"
   ]
  },
  {
   "cell_type": "markdown",
   "id": "54fb4173",
   "metadata": {},
   "source": [
    "### ComBat + DL methods"
   ]
  },
  {
   "cell_type": "code",
   "execution_count": null,
   "id": "e62e4e91",
   "metadata": {},
   "outputs": [],
   "source": [
    "from tcga_dl_imports import read_dl_results"
   ]
  },
  {
   "cell_type": "code",
   "execution_count": null,
   "id": "dd8eea45",
   "metadata": {},
   "outputs": [],
   "source": [
    "type_agg = 'median'\n",
    "\n",
    "output_folder = './output/baseline_C/'\n",
    "output_folder += 'GDSC_%s_TCGA_%s/'%(GDSC_drug_name, TCGA_drug_name)\n",
    "combat_dl_prediction, combat_dl_rank_scores = read_dl_results(output_folder)\n",
    "\n",
    "output_folder = './output/baseline_B/'\n",
    "output_folder += 'GDSC_%s_TCGA_%s/'%(GDSC_drug_name, TCGA_drug_name)\n",
    "dl_prediction, dl_rank_scores = read_dl_results(output_folder)"
   ]
  },
  {
   "cell_type": "markdown",
   "id": "736ee236",
   "metadata": {},
   "source": [
    "## Compute ROC AUCs"
   ]
  },
  {
   "cell_type": "code",
   "execution_count": null,
   "id": "8ef69bff",
   "metadata": {},
   "outputs": [],
   "source": [
    "from roc_auc_imports import compute_ROC_curve, compute_significance"
   ]
  },
  {
   "cell_type": "code",
   "execution_count": null,
   "id": "9a1195a8",
   "metadata": {},
   "outputs": [],
   "source": [
    "binary_y_target_pred = y_target_transact_predicted\n",
    "tr_fpr, tr_tpr, tr_thresholds, tr_AUC = compute_ROC_curve(binary_y_target_pred)\n",
    "transact_sign = compute_significance(binary_y_target_pred)\n",
    "del binary_y_target_pred\n",
    "\n",
    "binary_y_target_pred = combat_dl_prediction\n",
    "combat_dl_fpr, combat_dl_tpr, combat_dl_thresholds, combat_dl_AUC = compute_ROC_curve(binary_y_target_pred)\n",
    "combat_dl_sign = compute_significance(binary_y_target_pred)\n",
    "del binary_y_target_pred\n",
    "\n",
    "binary_y_target_pred = dl_prediction\n",
    "dl_fpr, dl_tpr, dl_thresholds, dl_AUC = compute_ROC_curve(binary_y_target_pred)\n",
    "dl_sign = compute_significance(binary_y_target_pred)\n",
    "del binary_y_target_pred\n",
    "\n",
    "binary_y_target_pred = y_target_precise_predicted\n",
    "precise_fpr, precise_tpr, precise_thresholds, precise_AUC = compute_ROC_curve(binary_y_target_pred)\n",
    "precise_sign = compute_significance(binary_y_target_pred)\n",
    "del binary_y_target_pred\n",
    "\n",
    "print('PERFORMANCE: \\n TRANSACT \\t %s'%(tr_AUC))\n",
    "print(' ComBat + DL \\t %s'%(combat_dl_AUC))\n",
    "print(' PRECISE \\t %s'%(precise_AUC))\n",
    "print(' DL \\t \\t %s'%(dl_AUC))\n",
    "\n",
    "ROC_combat_dl_p_val['GDSC_%s_TCGA_%s'%(GDSC_drug_name, TCGA_drug_name)] = pd.DataFrame(combat_dl_sign)\n",
    "ROC_transact_p_val['GDSC_%s_TCGA_%s'%(GDSC_drug_name, TCGA_drug_name)] = pd.DataFrame(transact_sign)\n",
    "ROC_precise_p_val['GDSC_%s_TCGA_%s'%(GDSC_drug_name, TCGA_drug_name)] = pd.DataFrame(precise_sign)\n",
    "ROC_dl_p_val['GDSC_%s_TCGA_%s'%(GDSC_drug_name, TCGA_drug_name)] = pd.DataFrame(dl_sign)"
   ]
  },
  {
   "cell_type": "markdown",
   "id": "a98a02e5",
   "metadata": {},
   "source": [
    "## Compute CIs using pROC"
   ]
  },
  {
   "cell_type": "code",
   "execution_count": null,
   "id": "69f75884",
   "metadata": {},
   "outputs": [],
   "source": [
    "robjects.r.assign(\"response\", y_target_df['measure_of_response'].replace('Non Responder', 1).replace('Responder', 0).values)\n",
    "\n",
    "robjects.r.assign(\"transact_predict\", y_target_transact_predicted['predicted'].values)\n",
    "robjects.r.assign(\"precise_predict\", y_target_precise_predicted['predicted'].values)\n",
    "robjects.r.assign(\"combat_dl_predict\", combat_dl_prediction['predicted'].values)\n",
    "robjects.r.assign(\"dl_predict\", dl_prediction['predicted'].values)"
   ]
  },
  {
   "cell_type": "markdown",
   "id": "1895719d",
   "metadata": {},
   "source": [
    "<b>EXPLANATION NOTE:</b> Here, for each method, we compute the ROC AUCs alongside the bootstrap confidence interval using the R-package pROC. We interface our code with R using rpy2."
   ]
  },
  {
   "cell_type": "code",
   "execution_count": null,
   "id": "b0d5af35",
   "metadata": {},
   "outputs": [],
   "source": [
    "grdevices = importr('grDevices')\n",
    "\n",
    "grdevices.png(file=\"%s/R_ROC_combined_GDSC_%s_TCGA_%s.png\"%(kernel_subfolder, GDSC_drug_name, TCGA_drug_name),\n",
    "              width=512, height=512)\n",
    "robjects.r('''\n",
    "    pROC_transact_obj <- roc(response, transact_predict,smoothed = FALSE,\n",
    "                            ci=TRUE, ci.alpha=0.95, stratified=FALSE,direction=\"<\",\n",
    "                            plot=TRUE, auc.polygon=TRUE, max.auc.polygon=TRUE, grid=TRUE,\n",
    "                            print.auc=TRUE, show.thres=TRUE,cex.lab=2.0, cex.axis=2.0, cex.main=2.0, cex.sub=2.0)\n",
    "    pROC_combat_dl_obj <- roc(response, combat_dl_predict,smoothed = FALSE,direction=\"<\",\n",
    "                            ci=TRUE, ci.alpha=0.95, stratified=FALSE,\n",
    "                            plot=TRUE, auc.polygon=TRUE, max.auc.polygon=TRUE, grid=TRUE,\n",
    "                            print.auc=TRUE, show.thres=TRUE,cex.lab=2.0, cex.axis=2.0, cex.main=2.0, cex.sub=2.0)\n",
    "    pROC_precise_obj <- roc(response,precise_predict,smoothed = FALSE,direction=\"<\",\n",
    "                            ci=TRUE, ci.alpha=0.95, stratified=FALSE,\n",
    "                            plot=TRUE, auc.polygon=TRUE, max.auc.polygon=TRUE, grid=TRUE,\n",
    "                            print.auc=TRUE, show.thres=TRUE,cex.lab=2.0, cex.axis=2.0, cex.main=2.0, cex.sub=2.0)\n",
    "    pROC_dl_obj <- roc(response, dl_predict,smoothed = FALSE,direction=\"<\",\n",
    "                        ci=TRUE, ci.alpha=0.95, stratified=FALSE,\n",
    "                        plot=TRUE, auc.polygon=TRUE, max.auc.polygon=TRUE, grid=TRUE,\n",
    "                        print.auc=TRUE, show.thres=TRUE,cex.lab=2.0, cex.axis=2.0, cex.main=2.0, cex.sub=2.0)\n",
    "                    \n",
    "    sens_transact.ci <- ci.se(pROC_transact_obj)\n",
    "    sens_combat_dl.ci <- ci.se(pROC_combat_dl_obj)\n",
    "    sens_precise.ci <- ci.se(pROC_precise_obj)\n",
    "    sens_dl.ci <- ci.se(pROC_dl_obj)\n",
    "    \n",
    "    plot(sens_transact.ci, type=\"bars\")\n",
    "    plot(sens_combat_dl.ci, type=\"bars\")\n",
    "    plot(sens_precise.ci, type=\"bars\")\n",
    "    plot(sens_dl.ci, type=\"bars\")\n",
    "\n",
    "    ## Make new color using input color as base and alpha set by transparency\n",
    "    rgb.val <- col2rgb(\"blue\")\n",
    "    transact.col <- rgb(rgb.val[1], rgb.val[2], rgb.val[3],\n",
    "                     max = 255,\n",
    "                     alpha = 70)\n",
    "                 \n",
    "    rgb.val <- col2rgb(\"orange\")\n",
    "    combat_dl.col <- rgb(rgb.val[1], rgb.val[2], rgb.val[3],\n",
    "                         max = 255,\n",
    "                         alpha = 70)\n",
    "    \n",
    "    rgb.val <- col2rgb(\"grey\")\n",
    "    precise.col <- rgb(rgb.val[1], rgb.val[2], rgb.val[3],\n",
    "                     max = 255,\n",
    "                     alpha = 70)\n",
    "                 \n",
    "    plot(sens_transact.ci, type=\"shape\", col=transact.col)\n",
    "    plot(sens_combat_dl.ci, type=\"shape\", col=combat_dl.col)\n",
    "    plot(sens_precise.ci, type=\"shape\", col=precise.col)\n",
    "''')\n",
    "grdevices.dev_off()\n",
    "\n",
    "robjects.r('''\n",
    "    auc_test <- roc.test(response=response,\n",
    "                        predictor1=transact_predict,\n",
    "                        predictor2=combat_dl_predict,\n",
    "                        alternative='greater',\n",
    "                        paired=TRUE,\n",
    "                        boot.stratified=TRUE, \n",
    "                        method=\"bootstrap\")\n",
    "''')\n",
    "\n",
    "ROC_combat_dl_ci['GDSC_%s_TCGA_%s'%(GDSC_drug_name, TCGA_drug_name)] = np.array(robjects.r('''ci.auc(pROC_combat_dl_obj, conf.level=0.95, method='b')'''))\n",
    "ROC_dl_ci['GDSC_%s_TCGA_%s'%(GDSC_drug_name, TCGA_drug_name)] = np.array(robjects.r('''ci.auc(pROC_dl_obj, conf.level=0.95, method='b')'''))\n",
    "ROC_transact_ci['GDSC_%s_TCGA_%s'%(GDSC_drug_name, TCGA_drug_name)] = np.array(robjects.r('''ci.auc(pROC_transact_obj, conf.level=0.95, method='b')'''))\n",
    "ROC_precise_ci['GDSC_%s_TCGA_%s'%(GDSC_drug_name, TCGA_drug_name)] = np.array(robjects.r('''ci.auc(pROC_precise_obj, conf.level=0.95, method='b')'''))\n",
    "\n",
    "response_size['GDSC_%s_TCGA_%s'%(GDSC_drug_name, TCGA_drug_name)] = [\n",
    "    np.sum(y_target_df['measure_of_response'] == 'Responder'),\n",
    "    np.sum(y_target_df['measure_of_response'] == 'Non Responder')\n",
    "]"
   ]
  },
  {
   "cell_type": "markdown",
   "id": "e0195d1d",
   "metadata": {},
   "source": [
    "## Save results\n",
    "Once the ROC AUC has been computed for a certain number of drugs, you can save all results using the following command."
   ]
  },
  {
   "cell_type": "markdown",
   "id": "3ab9a4e6",
   "metadata": {},
   "source": [
    "### Confidence intervals"
   ]
  },
  {
   "cell_type": "code",
   "execution_count": null,
   "id": "eb8de516",
   "metadata": {},
   "outputs": [],
   "source": [
    "ROC_CI_combat_dl_df = pd.DataFrame(ROC_combat_dl_ci).T\n",
    "ROC_CI_combat_dl_df.columns = pd.MultiIndex.from_tuples([('ComBat + Deep Learning', x) for x in ['min', 'median', 'max']])\n",
    "\n",
    "ROC_CI_dl_df = pd.DataFrame(ROC_dl_ci).T\n",
    "ROC_CI_dl_df.columns = pd.MultiIndex.from_tuples([('Deep Learning', x) for x in ['min', 'median', 'max']])\n",
    "\n",
    "ROC_CI_transact_df = pd.DataFrame(ROC_transact_ci).T\n",
    "ROC_CI_transact_df.columns = pd.MultiIndex.from_tuples([('TRANSACT', x) for x in ['min', 'median', 'max']])\n",
    "\n",
    "ROC_CI_precise_df = pd.DataFrame(ROC_precise_ci).T\n",
    "ROC_CI_precise_df.columns = pd.MultiIndex.from_tuples([('PRECISE', x) for x in ['min', 'median', 'max']])\n",
    "\n",
    "response_size_df = pd.DataFrame(response_size).T\n",
    "response_size_df.columns = pd.MultiIndex.from_tuples([('size', x)\n",
    "                                                      for x in ['Responders', 'Non Responders']])\n",
    "\n",
    "ROC_CI_df = pd.concat([ROC_CI_combat_dl_df, ROC_CI_transact_df, ROC_CI_precise_df, ROC_CI_dl_df, response_size_df], axis=1)\n",
    "ROC_CI_df.to_csv('%s/bootstrap_CI_TCGA.csv'%(kernel_subfolder))"
   ]
  },
  {
   "cell_type": "markdown",
   "id": "4bbdc6d3",
   "metadata": {},
   "source": [
    "### AUC and p-value (associated to Mann-Whitney test)"
   ]
  },
  {
   "cell_type": "code",
   "execution_count": null,
   "id": "56062f51",
   "metadata": {},
   "outputs": [],
   "source": [
    "ROC_pval_df = pd.concat({\n",
    "    'ComBat + Deep Learning': pd.concat(ROC_combat_dl_p_val),\n",
    "    'Deep Learning': pd.concat(ROC_dl_p_val),\n",
    "    'TRANSACT': pd.concat(ROC_transact_p_val),\n",
    "    'PRECISE': pd.concat(ROC_precise_p_val)\n",
    "})\n",
    "ROC_pval_df.to_csv('%s/p_val_TCGA.csv'%(kernel_subfolder))"
   ]
  },
  {
   "cell_type": "code",
   "execution_count": null,
   "id": "d079e3a7",
   "metadata": {},
   "outputs": [],
   "source": [
    "ROC_pval_df = ROC_pval_df.reset_index()\n",
    "ROC_pval_df = ROC_pval_df[ROC_pval_df['level_2'] == 'label']\n",
    "ROC_pval_df.columns = ['method', 'drug', 'x', 'one-sided', 'two-sided']\n",
    "del ROC_pval_df['x']\n",
    "\n",
    "ROC_pval_df.sort_values('drug').to_csv(\n",
    "    '%s/p_val_TCGA_processed.csv'%(kernel_subfolder)\n",
    ")"
   ]
  }
 ],
 "metadata": {
  "kernelspec": {
   "display_name": "Python (TRANSACT_figures)",
   "language": "python",
   "name": "transact_figures"
  },
  "language_info": {
   "codemirror_mode": {
    "name": "ipython",
    "version": 3
   },
   "file_extension": ".py",
   "mimetype": "text/x-python",
   "name": "python",
   "nbconvert_exporter": "python",
   "pygments_lexer": "ipython3",
   "version": "3.6.10"
  }
 },
 "nbformat": 4,
 "nbformat_minor": 5
}
