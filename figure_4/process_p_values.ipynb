{
 "cells": [
  {
   "cell_type": "code",
   "execution_count": 41,
   "metadata": {},
   "outputs": [],
   "source": [
    "import os, sys\n",
    "import numpy as np\n",
    "import matplotlib.pyplot as plt\n",
    "import matplotlib as mpl\n",
    "import pandas as pd\n",
    "import seaborn as sns\n",
    "from joblib import Parallel, delayed\n",
    "import scipy\n",
    "import re\n",
    "sns.set_style(\"whitegrid\")\n",
    "sns.set_context('paper')\n",
    "\n",
    "data_type = 'TCGA'\n",
    "unvariable_grouping = 'median'\n",
    "test = 'Mann-Whitney-ls'\n",
    "results_folder = './figures/'"
   ]
  },
  {
   "cell_type": "markdown",
   "metadata": {},
   "source": [
    "## Import ElasticNet, PRECISE and TRANSACT (non-variable)"
   ]
  },
  {
   "cell_type": "code",
   "execution_count": 42,
   "metadata": {},
   "outputs": [],
   "source": [
    "unvariable_folder_labels = {\n",
    "    './figures/': '',\n",
    "    './figures/baseline_A': 'baseline_A',\n",
    "    './figures/linear': 'PRECISE',\n",
    "    './figures/rbf_gamma_0_0005': 'TRANSACT'\n",
    "}\n",
    "unvariable_methods = ['baseline_A', 'PRECISE', 'TRANSACT']\n",
    "\n",
    "variable_folder_labels = {\n",
    "    './figures/baseline_B': 'baseline_B',\n",
    "    './figures/baseline_C': 'baseline_C',\n",
    "}\n",
    "\n",
    "variable_methods = ['baseline_B', 'baseline_C']"
   ]
  },
  {
   "cell_type": "code",
   "execution_count": 43,
   "metadata": {},
   "outputs": [
    {
     "name": "stderr",
     "output_type": "stream",
     "text": [
      "/home/s.mourragui/.conda/envs/precise_plus_figures/lib/python3.6/site-packages/ipykernel_launcher.py:31: DeprecationWarning: The default dtype for empty Series will be 'object' instead of 'float64' in a future version. Specify a dtype explicitly to silence this warning.\n",
      "/home/s.mourragui/.conda/envs/precise_plus_figures/lib/python3.6/site-packages/ipykernel_launcher.py:35: UserWarning: Pandas doesn't allow columns to be created via a new attribute name - see https://pandas.pydata.org/pandas-docs/stable/indexing.html#attribute-access\n"
     ]
    }
   ],
   "source": [
    "regex_ustat_match = '\\w*predicted_AUC(_n_pv_[0-9]+)*_GDSC_(5-)?\\w*_%s_\\w*_*[0-9]*_%s_ustat.txt'%(data_type, test)\n",
    "all_ustat_files = {}\n",
    "\n",
    "for f in os.walk(results_folder):\n",
    "    if f[0] == './figures/' or f[0] not in unvariable_folder_labels:\n",
    "        continue\n",
    "    r_ustat = re.compile(regex_ustat_match)\n",
    "    all_ustat_files[f[0]] = np.array(f[2])[[r_ustat.match(e) is not None for e in f[2]]]\n",
    "\n",
    "global_ustat_df = pd.DataFrame()\n",
    "\n",
    "for folder, files in all_ustat_files.items():\n",
    "    setting = unvariable_folder_labels[folder]\n",
    "    if setting not in global_ustat_df.index:\n",
    "        global_ustat_df[(setting, 'pval')] = np.empty(global_ustat_df.shape[0])\n",
    "        global_ustat_df[(setting, 'ustat')] = np.empty(global_ustat_df.shape[0])\n",
    "        global_ustat_df[(setting, 'product_samples')] = np.empty(global_ustat_df.shape[0])\n",
    "    \n",
    "    for f in files:\n",
    "        # Read data\n",
    "        df = pd.read_csv(folder + '/' + f, header=None if data_type == 'TCGA' else 0, index_col=0)\n",
    "        \n",
    "        # Extract drug\n",
    "        drugs = re.search('GDSC_(5-)?\\w*_%s_\\w*_%s'%(data_type, test), f).group()\n",
    "        drugs = drugs.replace(test, '')\n",
    "        GDSC_drug = re.search('GDSC_(5-)?\\w*_%s'%(data_type), drugs).group().replace('GDSC_', '').replace('_%s'%(data_type), '')\n",
    "        target_drug = re.search('%s_[A-Za-z]*'%(data_type), drugs).group().replace('%s_'%(data_type), '').replace('_', '')\n",
    "        \n",
    "        drug_index = (GDSC_drug, target_drug)\n",
    "        if drug_index not in global_ustat_df.index:\n",
    "            global_ustat_df = global_ustat_df.append(pd.Series(name=drug_index))\n",
    "        for m in df.index:\n",
    "            global_ustat_df.at[drug_index, (setting, m)] = df.at[m, 1] if data_type == 'TCGA' else df.at[m, 'PR-PD']\n",
    "    \n",
    "global_ustat_df.colums = pd.MultiIndex.from_tuples(global_ustat_df.columns)\n",
    "global_ustat_df.index = pd.MultiIndex.from_tuples(global_ustat_df.index)\n",
    "global_ustat_df.index.names = ['GDSC_drug', '%s_drug'%(data_type)]\n",
    "global_ustat_df.reset_index().set_index(['GDSC_drug', '%s_drug'%(data_type)]).merge(global_ustat_df, \n",
    "                                                                                    right_index=True,\n",
    "                                                                                    left_index=True)\n",
    "global_ustat_df.colums = pd.MultiIndex.from_tuples(global_ustat_df.columns)\n",
    "\n",
    "for s in unvariable_methods:\n",
    "    global_ustat_df[(s, 'AUC')] = global_ustat_df[(s, 'ustat')] / global_ustat_df[(s, 'product_samples')]\n",
    "    \n",
    "global_ustat_df.columns = pd.MultiIndex.from_tuples(global_ustat_df.columns)"
   ]
  },
  {
   "cell_type": "code",
   "execution_count": 44,
   "metadata": {},
   "outputs": [],
   "source": [
    "for folder, method in variable_folder_labels.items():\n",
    "    aggregated_file = folder + '/%s_results_%s_GDSC_MSE.csv'%(data_type, unvariable_grouping)\n",
    "    aggregated_df = pd.read_csv(aggregated_file, index_col=0)\n",
    "    aggregated_df.columns = [(method, c) for c in aggregated_df.columns]\n",
    "    aggregated_df.columns = pd.MultiIndex.from_tuples(aggregated_df.columns)\n",
    "    aggregated_df.index = [(re.search('GDSC_(5-)?[A-Za-z]*', idx).group(0).replace('GDSC_', ''),\n",
    "                            re.search('%s_(5-)?[A-Za-z]*'%(data_type), idx).group(0).replace('%s_'%(data_type), ''))\n",
    "                           for idx in aggregated_df.index]\n",
    "    aggregated_df.index = pd.MultiIndex.from_tuples(aggregated_df.index)\n",
    "    aggregated_df.index.names = ['GDSC_drug', '%s_drug'%(data_type)]\n",
    "    global_ustat_df = global_ustat_df.merge(aggregated_df, left_index=True, right_index=True)"
   ]
  },
  {
   "cell_type": "code",
   "execution_count": 45,
   "metadata": {},
   "outputs": [],
   "source": [
    "global_ustat_df.to_csv('%s/%s_ustat_summary_aggregat_median.csv'%(results_folder, data_type))"
   ]
  },
  {
   "cell_type": "markdown",
   "metadata": {},
   "source": [
    "## Write in readable format"
   ]
  },
  {
   "cell_type": "code",
   "execution_count": 46,
   "metadata": {},
   "outputs": [],
   "source": [
    "if data_type == 'TCGA':\n",
    "    order = [\n",
    "        ('Afatinib', 'Trastuzumab'),\n",
    "        ('Bleomycin', 'Bleomycin'),\n",
    "        ('Cetuximab', 'Cetuximab'),\n",
    "        ('Cisplatin', 'Cisplatin'),\n",
    "        ('Cisplatin', 'Carboplatin'),\n",
    "        ('Cyclophosphamide', 'Cyclophosphamide'),\n",
    "        ('Docetaxel', 'Docetaxel'),\n",
    "        ('Doxorubicin', 'Doxorubicin'),\n",
    "        ('Etoposide', 'Etoposide'),\n",
    "        ('5-Fluorouracil', 'Fluorouracil'),\n",
    "        ('Gemcitabine', 'Gemcitabine'),\n",
    "        ('Irinotecan', 'Irinotecan'),\n",
    "        ('Oxaliplatin', 'Oxaliplatin'),\n",
    "        ('Paclitaxel', 'Paclitaxel'),\n",
    "        ('Pemetrexed', 'Pemetrexed'),\n",
    "        ('Temozolomide', 'Temozolomide'),\n",
    "        ('Vinorelbine', 'Vinorelbine')\n",
    "    ]\n",
    "elif data_type == 'HMF':\n",
    "    order = [\n",
    "        ('Afatinib', 'Trastuzumab'),\n",
    "        ('Irinotecan', 'Irinotecan'),\n",
    "        ('Cisplatin', 'Carboplatin'),\n",
    "        ('5-Fluorouracil', 'Fluorouracil'),\n",
    "        ('Paclitaxel', 'Paclitaxel'),\n",
    "        ('Gemcitabine', 'Gemcitabine')\n",
    "    ]"
   ]
  },
  {
   "cell_type": "code",
   "execution_count": 47,
   "metadata": {},
   "outputs": [],
   "source": [
    "global_df = global_ustat_df.copy()\n",
    "methods = unvariable_methods + variable_methods\n",
    "for m in methods:\n",
    "    global_df[(m, 'summary')] = global_df[(m, 'pval')].apply(lambda x: '%1.2E'%(x)) + ' ' +\\\n",
    "                                global_df[(m, 'AUC')].apply(lambda x: '[%1.2f]'%(x))\n",
    "global_df = global_df[[(m, 'summary') for m in methods]]\n",
    "global_df = global_df.loc[order]\n",
    "global_df.to_csv('./figures/%s_results_summary_aggregat_%s.csv'%(data_type, unvariable_grouping))"
   ]
  }
 ],
 "metadata": {
  "kernelspec": {
   "display_name": "Python (precise_plus_figures)",
   "language": "python",
   "name": "precise_plus_figures"
  },
  "language_info": {
   "codemirror_mode": {
    "name": "ipython",
    "version": 3
   },
   "file_extension": ".py",
   "mimetype": "text/x-python",
   "name": "python",
   "nbconvert_exporter": "python",
   "pygments_lexer": "ipython3",
   "version": "3.6.10"
  }
 },
 "nbformat": 4,
 "nbformat_minor": 4
}
