{
 "cells": [
  {
   "cell_type": "markdown",
   "metadata": {},
   "source": [
    "# Figure 1 Visualisation of the main workflow\n",
    "### Kernel-PRECISE: Generating non-linear subspace representations to transfer predictors of response from pre-clinical models to human tumor\n",
    "Code for reproducing Figure 1. Figure 1 has been made for visualisation purposes -- it however relies on real data."
   ]
  },
  {
   "cell_type": "code",
   "execution_count": 1,
   "metadata": {},
   "outputs": [],
   "source": [
    "import os, sys\n",
    "import numpy as np\n",
    "import matplotlib.pyplot as plt\n",
    "import pandas as pd\n",
    "import seaborn as sns\n",
    "import uuid\n",
    "import scipy\n",
    "sns.set_style(\"whitegrid\")\n",
    "sns.set_context('paper')\n",
    "\n",
    "from sklearn.preprocessing import StandardScaler\n",
    "from sklearn.metrics.pairwise import kernel_metrics\n",
    "from sklearn.decomposition import KernelPCA\n",
    "\n",
    "sys.path.insert(0, '../read_data/')\n",
    "from read_data import read_data\n",
    "from reformat_df import reformat_df\n",
    "import library_size_normalization\n",
    "\n",
    "from transact.pv_computation import PVComputation\n",
    "from transact.interpolation import Interpolation\n",
    "from transact.matrix_operations import _center_kernel, _right_center_kernel, _left_center_kernel\n",
    "from transact.kernel_computer import KernelComputer\n",
    "from transact import TRANSACT"
   ]
  },
  {
   "cell_type": "code",
   "execution_count": null,
   "metadata": {},
   "outputs": [],
   "source": [
    "# da: domain adaptation\n",
    "tissues = {\n",
    "    'TCGA': ['All'],\n",
    "    'GDSC': ['All']\n",
    "}\n",
    "projects = {\n",
    "    'TCGA': None,\n",
    "    'GDSC': None\n",
    "}\n",
    "\n",
    "data_sources = ['GDSC', 'TCGA']\n",
    "\n",
    "data_types = ['rnaseq']\n",
    "data_normalization = 'library_size'\n",
    "\n",
    "source = 'GDSC'\n",
    "target = 'TCGA'"
   ]
  },
  {
   "cell_type": "markdown",
   "metadata": {},
   "source": [
    "## Read data"
   ]
  },
  {
   "cell_type": "code",
   "execution_count": null,
   "metadata": {},
   "outputs": [],
   "source": [
    "data_df = read_data(tissues=tissues,\n",
    "                    data_types=[e for e in data_types],\n",
    "                    projects=projects,\n",
    "                    data_sources=data_sources,\n",
    "                    folder_basis='../data/')\n",
    "\n",
    "source_data_key, target_data_key = reformat_df(data_df, source, target)"
   ]
  },
  {
   "cell_type": "code",
   "execution_count": null,
   "metadata": {},
   "outputs": [],
   "source": [
    "# Remove healthy samples for TCGA\n",
    "target_unhealthy_index = [e for e in data_df[target_data_key].index if '11A' not in e]\n",
    "data_df[target_data_key] = data_df[target_data_key].loc[target_unhealthy_index]"
   ]
  },
  {
   "cell_type": "code",
   "execution_count": null,
   "metadata": {},
   "outputs": [],
   "source": [
    "# Library size normalization\n",
    "average_depth_global = 10**5\n",
    "for ds in list(data_df.keys()):\n",
    "    GE_normalized = library_size_normalization.TMM_normalization(data_df[ds].values.astype(float))\n",
    "    GE_normalized = np.array(GE_normalized)\n",
    "    average_depths = np.mean(np.sum(GE_normalized,1))\n",
    "    GE_normalized = GE_normalized / average_depths * average_depth_global\n",
    "    GE_normalized = np.log(np.array(GE_normalized)+1)\n",
    "    data_df[ds] = pd.DataFrame(GE_normalized,\n",
    "                               columns=data_df[ds].columns,\n",
    "                               index=data_df[ds].index)"
   ]
  },
  {
   "cell_type": "code",
   "execution_count": null,
   "metadata": {},
   "outputs": [],
   "source": [
    "# Normalization\n",
    "with_mean = True\n",
    "with_std = True\n",
    "\n",
    "normalized_data_df = {\n",
    "    ds : StandardScaler(with_mean=with_mean, with_std=with_std).fit_transform(data_df[ds])\n",
    "    for ds in data_df\n",
    "}"
   ]
  },
  {
   "cell_type": "code",
   "execution_count": null,
   "metadata": {},
   "outputs": [],
   "source": [
    "# Make figure folder\n",
    "figure_uid = str(uuid.uuid4())\n",
    "while figure_uid in os.listdir('figures/'):\n",
    "    figure_uid = str(uuid.uuid4())\n",
    "os.mkdir('./figures/%s'%(figure_uid))"
   ]
  },
  {
   "cell_type": "code",
   "execution_count": null,
   "metadata": {},
   "outputs": [],
   "source": [
    "# Read tissue information\n",
    "TCGA_biospecimen_file = '../data/TCGA/pancancer_sample_spec.csv'\n",
    "TCGA_tissues = ['BRCA', 'SKCM', 'COAD', 'HNSC']\n",
    "TCGA_tissues = ['TCGA-' + e for e in  TCGA_tissues]\n",
    "\n",
    "# Compute barcode of samples\n",
    "len_barcode_TCGA = [len(e) for e in data_df[target_data_key].index]\n",
    "len_barcode_TCGA = np.unique(len_barcode_TCGA)\n",
    "if len_barcode_TCGA.shape[0] != 1:\n",
    "    print('WARNING: PB WITH BARCODE')\n",
    "len_barcode_TCGA = len_barcode_TCGA[0]\n",
    "\n",
    "TCGA_sample_tissues = pd.read_csv(TCGA_biospecimen_file, sep=',')\n",
    "TCGA_sample_tissues = TCGA_sample_tissues[['barcode', 'project']]\n",
    "TCGA_sample_tissues['barcode'] = TCGA_sample_tissues['barcode'].str[:len_barcode_TCGA]\n",
    "TCGA_sample_tissues = TCGA_sample_tissues.drop_duplicates().set_index('barcode')\n",
    "TCGA_sample_tissues = TCGA_sample_tissues.merge(data_df[target_data_key], left_index=True, right_index=True, how='right')\n",
    "TCGA_sample_tissues = TCGA_sample_tissues[['project']]\n",
    "TCGA_sample_tissues['project'] = TCGA_sample_tissues['project'].astype(str)\n",
    "pd.testing.assert_index_equal(TCGA_sample_tissues.index, data_df[target_data_key].index)\n",
    "\n",
    "# Select corresponding samples\n",
    "data_df[target_data_key] = data_df[target_data_key][TCGA_sample_tissues['project'].isin(TCGA_tissues)]"
   ]
  },
  {
   "cell_type": "markdown",
   "metadata": {},
   "source": [
    "## Select a few samples for visualisation purposes"
   ]
  },
  {
   "cell_type": "code",
   "execution_count": null,
   "metadata": {},
   "outputs": [],
   "source": [
    "n_target_samples = 50\n",
    "target_index = np.random.choice(np.arange(normalized_data_df[target_data_key].shape[0]),\n",
    "                                n_target_samples,\n",
    "                                replace=False)\n",
    "normalized_data_df[target_data_key] = normalized_data_df[target_data_key][target_index]\n",
    "\n",
    "n_source_samples = 50\n",
    "source_index = np.random.choice(np.arange(normalized_data_df[source_data_key].shape[0]),\n",
    "                                n_source_samples,\n",
    "                                replace=False)\n",
    "normalized_data_df[source_data_key] = normalized_data_df[source_data_key][source_index]"
   ]
  },
  {
   "cell_type": "markdown",
   "metadata": {},
   "source": [
    "## Similarity values\n",
    "### Hyperparameter of the kernel\n",
    "We here take a smaller dataset that does not completely recapitulate the diversity (pan-cancer) of the experiments. For this reason, we do not use the same hyper-parameter than the experiments."
   ]
  },
  {
   "cell_type": "code",
   "execution_count": null,
   "metadata": {},
   "outputs": [],
   "source": [
    "kernel_surname = 'rbf_gamma_0_00005_centered_standardized'\n",
    "kernel_name = 'rbf'\n",
    "kernel_param = {\n",
    "    'gamma': 0.00005\n",
    "}\n",
    "kernel = kernel_metrics()[kernel_name]\n",
    "\n",
    "number_pc = {\n",
    "    'source': 10,\n",
    "    'target': 10\n",
    "}"
   ]
  },
  {
   "cell_type": "code",
   "execution_count": null,
   "metadata": {},
   "outputs": [],
   "source": [
    "k_s = kernel(normalized_data_df[source_data_key], **kernel_param)\n",
    "k_t = kernel(normalized_data_df[target_data_key], **kernel_param)\n",
    "k_st = kernel(normalized_data_df[source_data_key],\n",
    "                             normalized_data_df[target_data_key],\n",
    "                             **kernel_param)\n",
    "k_ts = k_st.T\n",
    "\n",
    "kernel_matrix = np.block([\n",
    "    [_center_kernel(k_s), _left_center_kernel(_right_center_kernel(k_st))],\n",
    "    [_left_center_kernel(_right_center_kernel(k_ts)), _center_kernel(k_t)]\n",
    "])\n",
    "\n",
    "n_source = k_s.shape[0]\n",
    "n_target = k_t.shape[0]"
   ]
  },
  {
   "cell_type": "code",
   "execution_count": null,
   "metadata": {},
   "outputs": [],
   "source": [
    "g_s = sns.clustermap(k_s, cmap='seismic_r')\n",
    "plt.clf()\n",
    "\n",
    "g_t = sns.clustermap(k_t, cmap='seismic_r')\n",
    "plt.clf()\n",
    "\n",
    "plt.figure(figsize=(8,8))\n",
    "ordered_ind = np.concatenate([np.array(g_s.dendrogram_row.reordered_ind),\n",
    "                              n_source+np.array(g_t.dendrogram_row.reordered_ind)])\n",
    "\n",
    "sns.heatmap(kernel_matrix[ordered_ind][:,ordered_ind],\n",
    "            cmap='seismic_r',\n",
    "            cbar=False,\n",
    "            center=0, vmin=-0.15, vmax=.15)\n",
    "plt.xticks([])\n",
    "plt.yticks([])\n",
    "plt.tight_layout()\n",
    "plt.savefig('./figures/%s/centered_kernel_matrix_source_%s_target_%s_%s_n_target_%s.png'%(\n",
    "    figure_uid,\n",
    "    '_'.join(tissues[source]),\n",
    "    '_'.join(tissues[target]),\n",
    "    kernel_surname,\n",
    "    n_target_samples), \n",
    "            dpi=300)"
   ]
  },
  {
   "cell_type": "markdown",
   "metadata": {},
   "source": [
    "## PRECISE+ show-case\n",
    "### NLPC (Kernel principal components) coefficients\n",
    "#### Source"
   ]
  },
  {
   "cell_type": "code",
   "execution_count": null,
   "metadata": {},
   "outputs": [],
   "source": [
    "source_clf = KernelPCA(kernel=kernel_name, **kernel_param, n_components=10)\n",
    "source_clf.fit(normalized_data_df[source_data_key])\n",
    "source_coef = source_clf.alphas_ / np.sqrt(source_clf.lambdas_)\n",
    "sns.clustermap(source_coef.T[::-1][:5], cmap='seismic_r', row_cluster=False, figsize=(20,5), center=0)\n",
    "plt.savefig('./figures/%s/source_PC_sample_coef_kernel_matrix_source_%s_target_%s_%s.png'%(\n",
    "    figure_uid,\n",
    "    '_'.join(tissues[source]),\n",
    "    '_'.join(tissues[target]),\n",
    "    kernel_surname), \n",
    "            dpi=300)\n",
    "plt.show()"
   ]
  },
  {
   "cell_type": "markdown",
   "metadata": {},
   "source": [
    "#### Target"
   ]
  },
  {
   "cell_type": "code",
   "execution_count": null,
   "metadata": {},
   "outputs": [],
   "source": [
    "target_clf = KernelPCA(kernel=kernel_name, **kernel_param, n_components=10)\n",
    "target_clf.fit(normalized_data_df[target_data_key])\n",
    "target_coef = target_clf.alphas_ / np.sqrt(target_clf.lambdas_)\n",
    "sns.clustermap(target_coef.T[::-1][:5], cmap='seismic_r', row_cluster=False, figsize=(20,5), center=0)\n",
    "plt.savefig('./figures/%s/target_PC_sample_coef_kernel_matrix_source_%s_target_%s_%s.png'%(\n",
    "    figure_uid,\n",
    "    '_'.join(tissues[source]),\n",
    "    '_'.join(tissues[target]),\n",
    "    kernel_surname), \n",
    "            dpi=300)\n",
    "plt.show()"
   ]
  },
  {
   "cell_type": "markdown",
   "metadata": {},
   "source": [
    "### Principal Vectors"
   ]
  },
  {
   "cell_type": "code",
   "execution_count": null,
   "metadata": {},
   "outputs": [],
   "source": [
    "# Compute principal vectors\n",
    "PRECISE_clf = KernelPRECISE(kernel=kernel_name,\n",
    "                            kernel_params=kernel_param,\n",
    "                            n_components=number_pc,\n",
    "                            n_jobs=20,\n",
    "                            verbose=10)\n",
    "\n",
    "PRECISE_clf.fit(normalized_data_df[source_data_key],\n",
    "                normalized_data_df[target_data_key], \n",
    "                with_interpolation=False)"
   ]
  },
  {
   "cell_type": "markdown",
   "metadata": {},
   "source": [
    "#### Cosine similarity"
   ]
  },
  {
   "cell_type": "code",
   "execution_count": null,
   "metadata": {},
   "outputs": [],
   "source": [
    "plt.figure(figsize=(4,3))\n",
    "sns.heatmap(np.abs(PRECISE_clf.principal_vectors_.cosine_similarity_),\n",
    "            cmap='seismic_r',\n",
    "            center=0,\n",
    "            vmax=1, \n",
    "            cbar=False)\n",
    "plt.xticks([])\n",
    "plt.yticks([])\n",
    "plt.savefig('./figures/%s/cosine_similarity_matrix_%s_target_%s_%s.png'%(\n",
    "    figure_uid,\n",
    "    '_'.join(tissues[source]),\n",
    "    '_'.join(tissues[target]),\n",
    "    kernel_surname), \n",
    "            dpi=300)"
   ]
  },
  {
   "cell_type": "markdown",
   "metadata": {},
   "source": [
    "#### Alignment"
   ]
  },
  {
   "cell_type": "code",
   "execution_count": null,
   "metadata": {},
   "outputs": [],
   "source": [
    "plt.figure(figsize=(5,3))\n",
    "sns.heatmap(np.diag(np.cos(PRECISE_clf.principal_vectors_.canonical_angles)),\n",
    "            cmap='seismic_r',\n",
    "            center=0, \n",
    "            vmax=1, cbar=False)\n",
    "for i in range(PRECISE_clf.principal_vectors_.n_pv):\n",
    "    plt.text(i+1.4,i+.8,'%1.2f'%np.cos(PRECISE_clf.principal_vectors_.canonical_angles)[i],\n",
    "             fontsize=25,\n",
    "             color='black')\n",
    "\n",
    "plt.xticks([])\n",
    "plt.yticks([])\n",
    "plt.tight_layout()\n",
    "plt.savefig('./figures/%s/cosine_similarity_matrix_pv_%s_target_%s_%s.png'%(\n",
    "    figure_uid,\n",
    "    '_'.join(tissues[source]),\n",
    "    '_'.join(tissues[target]),\n",
    "    kernel_surname), \n",
    "            dpi=300)"
   ]
  },
  {
   "cell_type": "markdown",
   "metadata": {},
   "source": [
    "### Interpolation"
   ]
  },
  {
   "cell_type": "code",
   "execution_count": null,
   "metadata": {},
   "outputs": [],
   "source": [
    "PRECISE_clf.fit(normalized_data_df[source_data_key],\n",
    "                normalized_data_df[target_data_key], \n",
    "                n_pv=5,\n",
    "                with_interpolation=True)"
   ]
  },
  {
   "cell_type": "markdown",
   "metadata": {},
   "source": [
    "### Projection"
   ]
  },
  {
   "cell_type": "code",
   "execution_count": null,
   "metadata": {},
   "outputs": [],
   "source": [
    "source_consensus_features = PRECISE_clf.transform(normalized_data_df[source_data_key])\n",
    "target_consensus_features = PRECISE_clf.transform(normalized_data_df[target_data_key])\n",
    "all_consensus_features = np.concatenate([source_consensus_features, target_consensus_features])"
   ]
  },
  {
   "cell_type": "code",
   "execution_count": null,
   "metadata": {},
   "outputs": [],
   "source": [
    "sns.scatterplot(source_consensus_features[:n_source_samples,0],\n",
    "                source_consensus_features[:n_source_samples,1],\n",
    "                label='pre-clinical', marker='v', s=100, color='red')\n",
    "sns.scatterplot(target_consensus_features[:,0],\n",
    "                target_consensus_features[:,1],\n",
    "                label='tumors', marker='o', s=100, color='blue')\n",
    "plt.legend(fontsize=15)\n",
    "plt.xlabel('1st Consensus Feature', fontsize=20, color='black')\n",
    "plt.ylabel('2nd Consensus\\n Feature', fontsize=20, color='black')\n",
    "plt.tight_layout()\n",
    "plt.savefig('./figures/%s/consensus_features_scatterplot.png'%(figure_uid), dpi=300)\n",
    "plt.show()"
   ]
  }
 ],
 "metadata": {
  "kernelspec": {
   "display_name": "Python (TRANSACT_figures)",
   "language": "python",
   "name": "transact_figures"
  },
  "language_info": {
   "codemirror_mode": {
    "name": "ipython",
    "version": 3
   },
   "file_extension": ".py",
   "mimetype": "text/x-python",
   "name": "python",
   "nbconvert_exporter": "python",
   "pygments_lexer": "ipython3",
   "version": "3.6.10"
  }
 },
 "nbformat": 4,
 "nbformat_minor": 4
}
