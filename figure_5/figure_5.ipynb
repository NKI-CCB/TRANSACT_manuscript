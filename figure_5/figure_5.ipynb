{
 "cells": [
  {
   "cell_type": "markdown",
   "metadata": {},
   "source": [
    "# Figure 5 : Analysis of Afatinib, Gefitinib, Paclitaxel and Gemcitabine TRANSACT predictors\n",
    "This notebook supports the four panels of Figure 5."
   ]
  },
  {
   "cell_type": "code",
   "execution_count": null,
   "metadata": {},
   "outputs": [],
   "source": [
    "import os, sys\n",
    "import numpy as np\n",
    "import matplotlib.pyplot as plt\n",
    "import pandas as pd\n",
    "import seaborn as sns\n",
    "from joblib import Parallel, delayed\n",
    "import scipy\n",
    "from datetime import date\n",
    "from adjustText import adjust_text\n",
    "import ast\n",
    "import uuid\n",
    "sns.set_style(\"whitegrid\")\n",
    "sns.set_context('paper')\n",
    "\n",
    "from matplotlib import font_manager as fm, rcParams\n",
    "fpath = os.path.join(rcParams[\"datapath\"], \"fonts/ttf/arial.ttf\")\n",
    "prop_label = fm.FontProperties(fname=fpath)\n",
    "prop_label.set_size(30)\n",
    "prop_ticks = fm.FontProperties(fname=fpath)\n",
    "prop_ticks.set_size(25)\n",
    "fname = os.path.split(fpath)[1]\n",
    "\n",
    "from sklearn.metrics.pairwise import kernel_metrics\n",
    "from sklearn.model_selection import KFold, GridSearchCV\n",
    "from sklearn.linear_model import Ridge, ElasticNet, Lasso\n",
    "from sklearn.pipeline import Pipeline\n",
    "from sklearn.preprocessing import StandardScaler\n",
    "from sklearn.utils import shuffle\n",
    "from joblib import dump, load, Parallel, delayed\n",
    "from statannot.statannot import add_stat_annotation\n",
    "import umap\n",
    "from pickle import load, dump\n",
    "\n",
    "sys.path.insert(0, '../read_data/')\n",
    "from read_data import read_data\n",
    "from read_GDSC_response import read_GDSC_response\n",
    "from read_TCGA_response import read_TCGA_response\n",
    "import library_size_normalization\n",
    "\n",
    "from transact.TRANSACT import TRANSACT"
   ]
  },
  {
   "cell_type": "code",
   "execution_count": null,
   "metadata": {},
   "outputs": [],
   "source": [
    "tissues = {\n",
    "    'GDSC': ['All'],\n",
    "    'TCGA': ['TCGA']\n",
    "}\n",
    "projects = {\n",
    "    'GDSC': [None],\n",
    "    'TCGA': ['all']\n",
    "}\n",
    "\n",
    "data_sources = ['GDSC', 'TCGA']\n",
    "\n",
    "data_types = ['rnaseq']\n",
    "genes_filtering = 'mini_cancer'\n",
    "\n",
    "source = 'GDSC'\n",
    "target = 'TCGA'\n",
    "\n",
    "test = 'Mann-Whitney-ls'\n",
    "\n",
    "with_mean = True\n",
    "with_std = True\n",
    "\n",
    "figure_folder = './figures/'\n",
    "\n",
    "GDSC_drug_name = 'Gemcitabine'\n",
    "GDSC_drug_id = None\n",
    "TCGA_drug_name = 'Gemcitabine'"
   ]
  },
  {
   "cell_type": "markdown",
   "metadata": {},
   "source": [
    "## Import data"
   ]
  },
  {
   "cell_type": "markdown",
   "metadata": {},
   "source": [
    "### Read data"
   ]
  },
  {
   "cell_type": "code",
   "execution_count": null,
   "metadata": {},
   "outputs": [],
   "source": [
    "data_df = read_data(tissues=tissues,\n",
    "                    data_types=[e for e in data_types],\n",
    "                    projects=projects,\n",
    "                    data_sources=data_sources,\n",
    "                    folder_basis='../data/')"
   ]
  },
  {
   "cell_type": "markdown",
   "metadata": {},
   "source": [
    "### Put data into format"
   ]
  },
  {
   "cell_type": "code",
   "execution_count": null,
   "metadata": {},
   "outputs": [],
   "source": [
    "for ds in list(data_df.keys()):\n",
    "    assert len(data_df[ds].keys()) == 1\n",
    "    new_key = ('%s_%s'%(ds, list(data_df[ds].keys())[0])).replace('fpkm', 'tpm')\n",
    "    data_df[new_key] = data_df[ds][list(data_df[ds].keys())[0]]\n",
    "    print(new_key, data_df[new_key].shape)\n",
    "    del data_df[ds]\n",
    "\n",
    "source_data_key = [ds for ds in data_df if source in ds]\n",
    "assert len(source_data_key) == 1\n",
    "source_data_key = np.unique(source_data_key)[0]\n",
    "\n",
    "target_data_key = [ds for ds in data_df if target in ds]\n",
    "assert len(target_data_key) == 1\n",
    "target_data_key = np.unique(target_data_key)[0]"
   ]
  },
  {
   "cell_type": "markdown",
   "metadata": {},
   "source": [
    "### Removing the healthy samples"
   ]
  },
  {
   "cell_type": "code",
   "execution_count": null,
   "metadata": {},
   "outputs": [],
   "source": [
    "healthy_samples_index = data_df[target_data_key].index.str.contains(r'-(10A|11A)-')\n",
    "data_df[target_data_key] = data_df[target_data_key].loc[~healthy_samples_index]"
   ]
  },
  {
   "cell_type": "markdown",
   "metadata": {},
   "source": [
    "### Library size correction"
   ]
  },
  {
   "cell_type": "code",
   "execution_count": null,
   "metadata": {},
   "outputs": [],
   "source": [
    "average_depth_global = 10**5\n",
    "for ds in list(data_df.keys()):\n",
    "    GE_normalized = library_size_normalization.TMM_normalization(data_df[ds].values.astype(float))\n",
    "    GE_normalized = np.array(GE_normalized)\n",
    "    average_depths = np.mean(np.sum(GE_normalized,1))\n",
    "    GE_normalized = GE_normalized / average_depths * average_depth_global\n",
    "    GE_normalized = np.log(np.array(GE_normalized)+1)\n",
    "    data_df[ds] = pd.DataFrame(GE_normalized,\n",
    "                               columns=data_df[ds].columns,\n",
    "                               index=data_df[ds].index)\n",
    "    del GE_normalized"
   ]
  },
  {
   "cell_type": "markdown",
   "metadata": {},
   "source": [
    "### Normalize data"
   ]
  },
  {
   "cell_type": "code",
   "execution_count": null,
   "metadata": {},
   "outputs": [],
   "source": [
    "normalized_data_df = {\n",
    "    ds : StandardScaler(with_mean=with_mean, with_std=with_std).fit_transform(data_df[ds])\n",
    "    for ds in data_df\n",
    "}"
   ]
  },
  {
   "cell_type": "markdown",
   "metadata": {},
   "source": [
    "## TRANSACT"
   ]
  },
  {
   "cell_type": "markdown",
   "metadata": {},
   "source": [
    "### Kernel params"
   ]
  },
  {
   "cell_type": "code",
   "execution_count": null,
   "metadata": {},
   "outputs": [],
   "source": [
    "kernel_surname = 'TRANSACT'\n",
    "kernel_name = 'rbf'\n",
    "kernel_param = {\n",
    "    'gamma': 0.0005\n",
    "}\n",
    "kernel = kernel_metrics()[kernel_name]\n",
    "\n",
    "number_pc = {\n",
    "    'source': 70,\n",
    "    'target': 150\n",
    "}\n",
    "\n",
    "# Make one subfolder for the kernel analysis\n",
    "kernel_subfolder = '%s_%s'%(kernel_surname,\n",
    "                           '_'.join(['%s_%s'%(ds, number_pc[ds]) for ds in number_pc]))\n",
    "if kernel_subfolder in os.listdir(figure_folder):\n",
    "    print('BEWARE: ALREADY COMPUTATION IN FIGURE FILE')\n",
    "else:\n",
    "    os.makedirs(figure_folder + '/' + kernel_subfolder)\n",
    "kernel_subfolder = figure_folder + '/' + kernel_subfolder + '/'"
   ]
  },
  {
   "cell_type": "code",
   "execution_count": null,
   "metadata": {},
   "outputs": [],
   "source": [
    "with open(kernel_subfolder + 'params.txt', 'w') as param_file:\n",
    "    param_file.write(str({\n",
    "        'source': source,\n",
    "        'target': target,\n",
    "        'tissues': tissues,\n",
    "        'genes_filtering': genes_filtering,\n",
    "        'kernel_params': kernel_param,\n",
    "        'number_pc': number_pc\n",
    "    }))"
   ]
  },
  {
   "cell_type": "markdown",
   "metadata": {},
   "source": [
    "### Alignment"
   ]
  },
  {
   "cell_type": "code",
   "execution_count": null,
   "metadata": {},
   "outputs": [],
   "source": [
    "# Compute principal vectors\n",
    "TRANSACT_clf = TRANSACT(kernel=kernel_name,\n",
    "                        kernel_params=kernel_param,\n",
    "                        n_components=number_pc,\n",
    "                        n_jobs=30,\n",
    "                        verbose=10)"
   ]
  },
  {
   "cell_type": "code",
   "execution_count": null,
   "metadata": {
    "scrolled": true
   },
   "outputs": [],
   "source": [
    "# Final instance \n",
    "n_pv = 30\n",
    "n_interpolation = 100\n",
    "\n",
    "TRANSACT_clf.fit(normalized_data_df[source_data_key],\n",
    "                 normalized_data_df[target_data_key],  \n",
    "                 n_pv=n_pv,\n",
    "                 step=n_interpolation,\n",
    "                 with_interpolation=True)"
   ]
  },
  {
   "cell_type": "code",
   "execution_count": null,
   "metadata": {},
   "outputs": [],
   "source": [
    "# Project data\n",
    "source_consensus_features = TRANSACT_clf.transform(normalized_data_df[source_data_key])\n",
    "target_consensus_features = TRANSACT_clf.transform(normalized_data_df[target_data_key])\n",
    "\n",
    "# Put into format\n",
    "source_consensus_features = pd.DataFrame(source_consensus_features,\n",
    "                                         index=data_df[source_data_key].index)\n",
    "target_consensus_features = pd.DataFrame(target_consensus_features,\n",
    "                                         index=data_df[target_data_key].index)"
   ]
  },
  {
   "cell_type": "markdown",
   "metadata": {},
   "source": [
    "## Drug response prediction"
   ]
  },
  {
   "cell_type": "code",
   "execution_count": null,
   "metadata": {},
   "outputs": [],
   "source": [
    "# GDSC\n",
    "unique_drugs = None\n",
    "GDSC_drug_response_frames = {}\n",
    "for x in ['GDSC2', 'GDSC1']:\n",
    "    GDSC_drug_response_file = '../data/GDSC/response/%s_fitted_dose_response_25Feb20.xlsx'%(x)\n",
    "    GDSC_drug_response_frames[x] = pd.read_excel(GDSC_drug_response_file)\n",
    "    if unique_drugs is None:\n",
    "        unique_drugs = np.unique(GDSC_drug_response_frames[x]['DRUG_NAME'])\n",
    "    else:\n",
    "        unique_drugs = np.concatenate([unique_drugs, np.unique(GDSC_drug_response_frames[x]['DRUG_NAME'])])\n",
    "        \n",
    "# TCGA\n",
    "TCGA_drug_response_file = '../data/TCGA/response/response.csv'"
   ]
  },
  {
   "cell_type": "code",
   "execution_count": null,
   "metadata": {},
   "outputs": [],
   "source": [
    "X_source, y_source = read_GDSC_response(GDSC_drug_response_frames, \n",
    "                                        GDSC_drug_name,\n",
    "                                        pd.DataFrame(normalized_data_df[source_data_key].copy(), \n",
    "                                                     index=data_df[source_data_key].index, \n",
    "                                                     columns=data_df[source_data_key].columns),\n",
    "                                        GDSC_drug_id)\n",
    "X_target, y_target = read_TCGA_response(TCGA_drug_name,\n",
    "                                        pd.DataFrame(normalized_data_df[target_data_key].copy(), \n",
    "                                                     index=data_df[target_data_key].index, \n",
    "                                                     columns=data_df[target_data_key].columns),\n",
    "                                        TCGA_drug_response_file)"
   ]
  },
  {
   "cell_type": "markdown",
   "metadata": {},
   "source": [
    "### Prediction"
   ]
  },
  {
   "cell_type": "code",
   "execution_count": null,
   "metadata": {},
   "outputs": [],
   "source": [
    "TRANSACT_clf.fit_predictor(X_source, y_source.values.flatten())"
   ]
  },
  {
   "cell_type": "markdown",
   "metadata": {},
   "source": [
    "## Interpretability\n",
    "I here study the direction of drug response."
   ]
  },
  {
   "cell_type": "code",
   "execution_count": null,
   "metadata": {},
   "outputs": [],
   "source": [
    "predictive_coef = TRANSACT_clf.predictive_clf.best_estimator_.named_steps['regression'].coef_"
   ]
  },
  {
   "cell_type": "code",
   "execution_count": null,
   "metadata": {},
   "outputs": [],
   "source": [
    "optimal_time = TRANSACT_clf.optimal_time\n",
    "source_angular = TRANSACT_clf.interpolation_._gamma_interpolations(optimal_time)\n",
    "target_angular = TRANSACT_clf.interpolation_._xi_interpolations(optimal_time)\n",
    "\n",
    "source_angular = np.diag(source_angular)\n",
    "target_angular = np.diag(target_angular)"
   ]
  },
  {
   "cell_type": "markdown",
   "metadata": {},
   "source": [
    "### Offset"
   ]
  },
  {
   "cell_type": "code",
   "execution_count": null,
   "metadata": {},
   "outputs": [],
   "source": [
    "source_norm = np.square(np.linalg.norm(normalized_data_df[source_data_key], axis=1))\n",
    "source_norm = np.exp(- kernel_param['gamma'] * source_norm)\n",
    "\n",
    "target_norm = np.square(np.linalg.norm(normalized_data_df[target_data_key], axis=1))\n",
    "target_norm = np.exp(- kernel_param['gamma'] * target_norm)"
   ]
  },
  {
   "cell_type": "code",
   "execution_count": null,
   "metadata": {},
   "outputs": [],
   "source": [
    "sigma_offset_source = source_angular.dot(TRANSACT_clf.principal_vectors_.gamma_coef['source'].dot(source_norm))\n",
    "sigma_offset_target = target_angular.dot(TRANSACT_clf.principal_vectors_.gamma_coef['target'].dot(target_norm))\n",
    "\n",
    "sigma_offset = sigma_offset_source + sigma_offset_target\n",
    "offset_contribution = np.square(sigma_offset)"
   ]
  },
  {
   "cell_type": "code",
   "execution_count": null,
   "metadata": {},
   "outputs": [],
   "source": [
    "offset_contribution_pred_direction = np.square(predictive_coef.dot(sigma_offset))"
   ]
  },
  {
   "cell_type": "markdown",
   "metadata": {},
   "source": [
    "### Linear"
   ]
  },
  {
   "cell_type": "code",
   "execution_count": null,
   "metadata": {},
   "outputs": [],
   "source": [
    "def basis_function(x,i, rbf_gamma):\n",
    "    norm = np.square(np.linalg.norm(x, axis=1))\n",
    "    constant = np.sqrt(2*rbf_gamma)\n",
    "    y = np.multiply(constant * x[:,i], np.exp(- rbf_gamma * norm))\n",
    "    return y - np.mean(y)\n",
    "\n",
    "p = normalized_data_df[source_data_key].shape[1]\n",
    "source_basis_eval = Parallel(n_jobs=30, verbose=1)(delayed(basis_function)(normalized_data_df[source_data_key],\n",
    "                                                                          i, kernel_param['gamma'])\n",
    "                                                   for i in range(p))\n",
    "\n",
    "target_basis_eval = Parallel(n_jobs=30, verbose=1)(delayed(basis_function)(normalized_data_df[target_data_key],\n",
    "                                                                          i, kernel_param['gamma'])\n",
    "                                                   for i in range(p))\n",
    "\n",
    "target_basis_eval = np.array(target_basis_eval).T\n",
    "source_basis_eval = np.array(source_basis_eval).T"
   ]
  },
  {
   "cell_type": "code",
   "execution_count": null,
   "metadata": {},
   "outputs": [],
   "source": [
    "sigma_linear_source = source_angular.dot(TRANSACT_clf.principal_vectors_.gamma_coef['source'].dot(source_basis_eval))\n",
    "sigma_linear_target = target_angular.dot(TRANSACT_clf.principal_vectors_.gamma_coef['target'].dot(target_basis_eval))\n",
    "\n",
    "sigma_linear = sigma_linear_source + sigma_linear_target\n",
    "linear_contribution = np.square(np.linalg.norm(sigma_linear, axis=1))"
   ]
  },
  {
   "cell_type": "code",
   "execution_count": null,
   "metadata": {},
   "outputs": [],
   "source": [
    "sigma_linear_pred_direction = predictive_coef.dot(sigma_linear)\n",
    "linear_contribution_pred_direction = np.sum(np.square(sigma_linear_pred_direction))\n",
    "genes = np.array(data_df[source_data_key].columns).astype(str)"
   ]
  },
  {
   "cell_type": "markdown",
   "metadata": {},
   "source": [
    "### Interactions"
   ]
  },
  {
   "cell_type": "code",
   "execution_count": null,
   "metadata": {},
   "outputs": [],
   "source": [
    "def interaction_loading(i,j, rbf_gamma, norm_source, norm_target):\n",
    "    constant = 2*rbf_gamma\n",
    "    if i == j:\n",
    "        constant /= 2\n",
    "    \n",
    "    X_source = normalized_data_df[source_data_key]\n",
    "    X_source = np.multiply(X_source[:,i], X_source[:,j])\n",
    "    X_source = np.multiply(X_source, norm_source)\n",
    "    X_source = source_angular.dot(TRANSACT_clf.principal_vectors_.gamma_coef['source'].dot(X_source))\n",
    "    \n",
    "    X_target = normalized_data_df[target_data_key]\n",
    "    X_target = np.multiply(X_target[:,i], X_target[:,j])\n",
    "    X_target = np.multiply(X_target, norm_target)\n",
    "    X_target = target_angular.dot(TRANSACT_clf.principal_vectors_.gamma_coef['target'].dot(X_target))\n",
    "    \n",
    "    return constant * (X_source + X_target)\n",
    "\n",
    "def interaction_loadings_genes(i, rbf_gamma):\n",
    "    loadings = []\n",
    "    \n",
    "    norm_source = np.exp(-rbf_gamma*np.square(np.linalg.norm(normalized_data_df[source_data_key], axis=1)))\n",
    "    norm_target = np.exp(-rbf_gamma*np.square(np.linalg.norm(normalized_data_df[target_data_key], axis=1)))\n",
    "    for j in range(i+1):\n",
    "        if np.random.rand() < 0.01:\n",
    "            print(j)\n",
    "        x = interaction_loading(i, j, rbf_gamma, norm_source, norm_target)\n",
    "        loadings.append(x)\n",
    "    \n",
    "    return loadings"
   ]
  },
  {
   "cell_type": "code",
   "execution_count": null,
   "metadata": {
    "scrolled": true
   },
   "outputs": [],
   "source": [
    "loadings = Parallel(n_jobs=40, verbose=1)(delayed(interaction_loadings_genes)(i, kernel_param['gamma'])\n",
    "                                          for i in range(normalized_data_df[source_data_key].shape[1]))\n",
    "\n",
    "loadings = np.array([np.array(e) for e in loadings])\n",
    "interaction_loadings_pred_dir = [x.dot(predictive_coef) for x in loadings]"
   ]
  },
  {
   "cell_type": "code",
   "execution_count": null,
   "metadata": {},
   "outputs": [],
   "source": [
    "# Interaction coef between genes i and j in factor k\n",
    "def interaction_coef(i,j,k):\n",
    "    return loadings[max(i,j)][min(i,j), k]\n",
    "\n",
    "# Interaction coefs with gene i in factor k\n",
    "def gene_interaction_coef(i,k):\n",
    "    return np.array([interaction_coef(i,j,k) for j in range(len(genes))])\n",
    "\n",
    "def batch_gene_interaction_coef(I,k):\n",
    "    return [gene_interaction_coef(i,k) for i in I]"
   ]
  },
  {
   "cell_type": "code",
   "execution_count": null,
   "metadata": {},
   "outputs": [],
   "source": [
    "interaction_contribution_pred = [np.sum(np.square(e)) for e in interaction_loadings_pred_dir]\n",
    "interaction_contribution_pred = np.array(interaction_contribution_pred)\n",
    "interaction_contribution_pred = np.sum(interaction_contribution_pred, axis=0)"
   ]
  },
  {
   "cell_type": "code",
   "execution_count": null,
   "metadata": {},
   "outputs": [],
   "source": [
    "contribution_df = pd.DataFrame(np.array([\n",
    "    offset_contribution_pred_direction,\n",
    "    linear_contribution_pred_direction,\n",
    "    interaction_contribution_pred])).T\n",
    "contribution_df.columns = ['Offset', 'Linear', 'Interaction']"
   ]
  },
  {
   "cell_type": "code",
   "execution_count": null,
   "metadata": {},
   "outputs": [],
   "source": [
    "contribution_df = pd.DataFrame(np.array([\n",
    "    offset_contribution_pred_direction,\n",
    "    linear_contribution_pred_direction,\n",
    "    interaction_contribution_pred])).T\n",
    "contribution_df.columns = ['Offset', 'Linear', 'Interaction']\n",
    "contribution_df = contribution_df / np.sum(np.square(predictive_coef))\n",
    "contribution_df['Higher order'] = 1 - np.sum(contribution_df, axis=1)\n",
    "contribution_df.plot.barh(stacked=True, width=1.2)\n",
    "\n",
    "plt.xlim(0,1)\n",
    "plt.xticks(np.linspace(0,1,5), ['%s%%'%(int(100*e)) for e in np.linspace(0,1,5)], fontsize=20)\n",
    "plt.yticks([], [])\n",
    "plt.legend(bbox_to_anchor=(0.7, 1.05), loc=4, borderaxespad=0., fontsize=15, ncol=2)\n",
    "plt.tight_layout()\n",
    "\n",
    "plt.savefig('%s/contribution_%s_%s.png'%(kernel_subfolder, GDSC_drug_name, TCGA_drug_name),\n",
    "           dpi=300)"
   ]
  },
  {
   "cell_type": "code",
   "execution_count": null,
   "metadata": {},
   "outputs": [],
   "source": [
    "interaction_loadings_pred_dir = np.concatenate([e for e in interaction_loadings_pred_dir])\n",
    "gene_list = np.concatenate([list(zip([genes[i]]*(i+1), genes[:i+1])) for i in range(len(genes))])\n",
    "sorted_index = np.argsort(interaction_loadings_pred_dir)"
   ]
  },
  {
   "cell_type": "code",
   "execution_count": null,
   "metadata": {},
   "outputs": [],
   "source": [
    "threshold = 0.000\n",
    "\n",
    "thresholded_index = (np.abs(interaction_loadings_pred_dir) >= threshold)\n",
    "interactions_loadings_pred_df = pd.DataFrame(np.array([\n",
    "    gene_list[thresholded_index][:,0],\n",
    "    gene_list[thresholded_index][:,1],\n",
    "    interaction_loadings_pred_dir[thresholded_index]]).T,\n",
    "                                            columns=['Gene A', 'Gene B', 'Contribution'])\n",
    "interactions_loadings_pred_df['Contribution'] = interactions_loadings_pred_df['Contribution'].astype(float)"
   ]
  },
  {
   "cell_type": "code",
   "execution_count": null,
   "metadata": {},
   "outputs": [],
   "source": [
    "top_interactions = 10**4\n",
    "\n",
    "interactions_loadings_pred_df['Absolute Contribution'] = np.abs(interactions_loadings_pred_df['Contribution'])\n",
    "interactions_loadings_pred_df.sort_values('Absolute Contribution', ascending=False, inplace=True)\n",
    "interactions_loadings_pred_df = interactions_loadings_pred_df.head(top_interactions)\n",
    "del interactions_loadings_pred_df['Absolute Contribution']\n",
    "interactions_loadings_pred_df.sort_values('Contribution', ascending=False, inplace=True)\n",
    "\n",
    "interactions_loadings_pred_df.to_csv('%s/interactions_top_%s_GDSC_%s_TCGA_%s.csv'%('./figures/', \n",
    "                                                                                   top_interactions, \n",
    "                                                                                   GDSC_drug_name, \n",
    "                                                                                   TCGA_drug_name))"
   ]
  },
  {
   "cell_type": "code",
   "execution_count": null,
   "metadata": {},
   "outputs": [],
   "source": [
    "interactions_loadings_pred_df = interactions_loadings_pred_df.sort_values('Contribution').reset_index(drop=True)\n",
    "\n",
    "x = np.arange(interaction_loadings_pred_dir.shape[0])\n",
    "y = np.sort(interaction_loadings_pred_dir)\n",
    "plt.figure(figsize=(7,4.5))\n",
    "plt.plot(x, y, '+')\n",
    "\n",
    "# Bottom\n",
    "ts = []\n",
    "limit = 10\n",
    "for i in range(limit):\n",
    "    t = interactions_loadings_pred_df.loc[i]\n",
    "    t = '(%s,%s)'%(t['Gene A'], t['Gene B'])\n",
    "    ts.append(plt.text(x[i], y[i], t))\n",
    "adjust_text(ts, x=x[:limit], y=y[:limit], force_points=(0.1,1.),\n",
    "            arrowprops=dict(arrowstyle='-', color='red'),\n",
    "            size=20, force_text=(-1., .5), precision=0.0001, lim=1000)\n",
    "\n",
    "# Bottom\n",
    "ts = []\n",
    "limit = 10\n",
    "for i in range(1,limit+1):\n",
    "    t = interactions_loadings_pred_df.loc[interactions_loadings_pred_df.shape[0]-i]\n",
    "    t = '(%s,%s)'%(t['Gene A'], t['Gene B'])\n",
    "    ts.append(plt.text(x[-i], y[-i], t))\n",
    "adjust_text(ts, x=x[-limit-1:][::-1], y=y[-limit-1:][::-1],\n",
    "            force_points=(.1,1.), force_text=(1.,.5),\n",
    "            arrowprops=dict(arrowstyle='-', color='red'),\n",
    "            size=20, precision=0.0001, lim=1000)\n",
    "\n",
    "plt.xlabel('Gene pairs', fontsize=20, color='black')\n",
    "plt.ylabel('Interaction loading', fontsize=20, color='black')\n",
    "plt.xticks([0, interaction_loadings_pred_dir.shape[0]-1],\n",
    "           [1, str(interaction_loadings_pred_dir.shape[0])], fontsize=15)\n",
    "plt.yticks(fontsize=15, color='black')\n",
    "plt.tight_layout()\n",
    "plt.savefig('%s/interaction_loadings_%s_%s.png'%(kernel_subfolder,\n",
    "                                                 TCGA_drug_name,\n",
    "                                                 GDSC_drug_name),\n",
    "           dpi=300)\n",
    "\n",
    "del x,y,limit,ts"
   ]
  },
  {
   "cell_type": "code",
   "execution_count": null,
   "metadata": {},
   "outputs": [],
   "source": [
    "x = np.arange(interaction_loadings_pred_dir.shape[0])\n",
    "y = np.sort(interaction_loadings_pred_dir)\n",
    "plt.figure(figsize=(10,4.5))\n",
    "plt.plot(x, y, color='black')\n",
    "\n",
    "\n",
    "plt.fill_between(x, y.clip(0), color='red')\n",
    "plt.fill_between(x, -(-y).clip(0), color='green')\n",
    "plt.hlines(0, x.shape[0], 0)\n",
    "plt.vlines(0, 0, np.min(y))\n",
    "plt.vlines(y.shape[0]-1, 0, np.max(y))\n",
    "plt.xticks([])\n",
    "plt.xlabel('')\n",
    "plt.yticks(rotation=0, fontsize=20, color='black')\n",
    "plt.legend().remove()\n",
    "plt.tight_layout()\n",
    "plt.savefig('./figures/interaction_plot_%s_%s.png'%(GDSC_drug_name, GDSC_drug_id), dpi=300)"
   ]
  },
  {
   "cell_type": "code",
   "execution_count": null,
   "metadata": {},
   "outputs": [],
   "source": [
    "interactions_loadings_pred_df = interactions_loadings_pred_df.sort_values('Contribution')\n",
    "interactions_loadings_pred_df.to_csv('%s/interaction_loadings_%s_%s_threshold_%s.csv'%(kernel_subfolder,\n",
    "                                                                                       GDSC_drug_name,\n",
    "                                                                                       TCGA_drug_name,\n",
    "                                                                                       str(threshold).replace('.', '_')))\n",
    "interactions_loadings_pred_df[['Gene A', 'Gene B']].to_csv('%s/interaction_pairs_%s_%s_threshold_%s.csv'%(\n",
    "    kernel_subfolder,\n",
    "    GDSC_drug_name,\n",
    "    TCGA_drug_name,\n",
    "    str(threshold).replace('.', '_')), sep='\\t', index=False)\n",
    "\n",
    "unique_gene_interacted = np.unique(interactions_loadings_pred_df[['Gene A', 'Gene B']].values.flatten())\n",
    "with open('%s/interaction_genes_%s_%s_threshold_%s.txt'%(kernel_subfolder,\n",
    "                                                         GDSC_drug_name,\n",
    "                                                         TCGA_drug_name,\n",
    "                                                         str(threshold).replace('.', '_')),\n",
    "         'w') as f:\n",
    "    f.write('\\n'.join(unique_gene_interacted))"
   ]
  }
 ],
 "metadata": {
  "kernelspec": {
   "display_name": "Python (TRANSACT_figures)",
   "language": "python",
   "name": "transact_figures"
  },
  "language_info": {
   "codemirror_mode": {
    "name": "ipython",
    "version": 3
   },
   "file_extension": ".py",
   "mimetype": "text/x-python",
   "name": "python",
   "nbconvert_exporter": "python",
   "pygments_lexer": "ipython3",
   "version": "3.6.10"
  }
 },
 "nbformat": 4,
 "nbformat_minor": 4
}
