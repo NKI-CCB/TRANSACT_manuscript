{
 "cells": [
  {
   "cell_type": "markdown",
   "metadata": {},
   "source": [
    "# Fig 3A and Fig 3C: Proportion of non-linearities in consensus features and UMAP plot for the GDSC-TCGA analysis\n",
    "This notebook supports the panels 3A and 3C of Figure 3."
   ]
  },
  {
   "cell_type": "code",
   "execution_count": 2,
   "metadata": {},
   "outputs": [],
   "source": [
    "import os, sys\n",
    "import numpy as np\n",
    "import matplotlib.pyplot as plt\n",
    "import pandas as pd\n",
    "import seaborn as sns\n",
    "from joblib import Parallel, delayed\n",
    "import scipy\n",
    "from datetime import date\n",
    "import umap\n",
    "import pylab\n",
    "sns.set_style(\"whitegrid\")\n",
    "sns.set_context('paper')\n",
    "\n",
    "from sklearn.preprocessing import StandardScaler\n",
    "\n",
    "sys.path.insert(0, '../read_data/')\n",
    "from read_data import read_data\n",
    "from read_GDSC_response import read_GDSC_response\n",
    "from reformat_df import reformat_df\n",
    "import library_size_normalization\n",
    "\n",
    "from transact.pv_computation import PVComputation\n",
    "from transact.interpolation import Interpolation\n",
    "from transact.matrix_operations import _center_kernel, _right_center_kernel, _left_center_kernel\n",
    "from transact.kernel_computer import KernelComputer\n",
    "from transact.TRANSACT import TRANSACT\n",
    "\n",
    "from compute_proportion import compute_proportion"
   ]
  },
  {
   "cell_type": "code",
   "execution_count": 5,
   "metadata": {},
   "outputs": [],
   "source": [
    "# Data sources\n",
    "tissues = {\n",
    "    'TCGA': ['All'],\n",
    "    'GDSC': ['All']\n",
    "}\n",
    "projects = {\n",
    "    'TCGA':[None],\n",
    "    'GDSC': None\n",
    "}\n",
    "\n",
    "data_sources = ['GDSC', 'TCGA']\n",
    "\n",
    "data_types = ['rnaseq']\n",
    "genes_filtering = 'mini'\n",
    "data_normalization = 'library_size'\n",
    "\n",
    "source = 'GDSC'\n",
    "target = 'TCGA'\n",
    "\n",
    "# TRANSACT analysis\n",
    "kernel_surname = 'rbf_gamma_0_0005'\n",
    "kernel_name = 'rbf'\n",
    "kernel_param = {\n",
    "    'gamma': 0.0005\n",
    "}\n",
    "\n",
    "number_pc = {\n",
    "    'source': 70,\n",
    "    'target': 150\n",
    "}\n",
    "n_pv = 30\n",
    "n_interpolation = 100\n",
    "n_jobs = 20"
   ]
  },
  {
   "cell_type": "markdown",
   "metadata": {},
   "source": [
    "## Read data"
   ]
  },
  {
   "cell_type": "code",
   "execution_count": 6,
   "metadata": {},
   "outputs": [
    {
     "name": "stdout",
     "output_type": "stream",
     "text": [
      "DATA UPLOADED\n",
      "GENE HARMONIZED ACROSS VIEWS\n",
      "CHECKED FOR GOOD HARMONIZATION\n"
     ]
    }
   ],
   "source": [
    "data_df = read_data(tissues=tissues,\n",
    "                    data_types=[e for e in data_types],\n",
    "                    projects=projects,\n",
    "                    data_sources=data_sources,\n",
    "                    folder_basis='../data/')\n",
    "\n",
    "source_data_key, target_data_key = reformat_df(data_df, source, target)"
   ]
  },
  {
   "cell_type": "code",
   "execution_count": 7,
   "metadata": {},
   "outputs": [
    {
     "name": "stderr",
     "output_type": "stream",
     "text": [
      "/home/s.mourragui/.local/lib/python3.6/site-packages/pandas/core/strings.py:1954: UserWarning: This pattern has match groups. To actually get the groups, use str.extract.\n",
      "  return func(self, *args, **kwargs)\n"
     ]
    }
   ],
   "source": [
    "# removing healthy samples\n",
    "healthy_samples_index = data_df[target_data_key].index.str.contains(r'-(10A|11A)-')\n",
    "data_df[target_data_key] = data_df[target_data_key].loc[~healthy_samples_index]"
   ]
  },
  {
   "cell_type": "code",
   "execution_count": 8,
   "metadata": {},
   "outputs": [],
   "source": [
    "# Library size normalization\n",
    "average_depth_global = 10**5\n",
    "for ds in list(data_df.keys()):\n",
    "    GE_normalized = library_size_normalization.TMM_normalization(data_df[ds].values.astype(float))\n",
    "    GE_normalized = np.array(GE_normalized)\n",
    "    average_depths = np.mean(np.sum(GE_normalized,1))\n",
    "    GE_normalized = GE_normalized / average_depths * average_depth_global\n",
    "    GE_normalized = np.log(np.array(GE_normalized)+1)\n",
    "    data_df[ds] = pd.DataFrame(GE_normalized,\n",
    "                               columns=data_df[ds].columns,\n",
    "                               index=data_df[ds].index)"
   ]
  },
  {
   "cell_type": "code",
   "execution_count": 9,
   "metadata": {},
   "outputs": [],
   "source": [
    "# Normalization\n",
    "with_mean = True\n",
    "with_std = True\n",
    "\n",
    "normalized_data_df = {\n",
    "    ds : StandardScaler(with_mean=with_mean, with_std=with_std).fit_transform(data_df[ds])\n",
    "    for ds in data_df\n",
    "}"
   ]
  },
  {
   "cell_type": "code",
   "execution_count": null,
   "metadata": {},
   "outputs": [],
   "source": [
    "# Compute barcode of samples\n",
    "len_barcode_TCGA = [len(e) for e in data_df[target_data_key].index]\n",
    "len_barcode_TCGA = np.unique(len_barcode_TCGA)\n",
    "if len_barcode_TCGA.shape[0] != 1:\n",
    "    print('WARNING: PB WITH BARCODE')\n",
    "len_barcode_TCGA = len_barcode_TCGA[0]\n",
    "\n",
    "TCGA_biospecimen_file = '../data/TCGA/pancancer_sample_spec.csv'\n",
    "TCGA_sample_tissues = pd.read_csv(TCGA_biospecimen_file, sep=',')\n",
    "TCGA_sample_tissues = TCGA_sample_tissues[['barcode', 'project']]\n",
    "TCGA_sample_tissues['barcode'] = TCGA_sample_tissues['barcode'].str[:len_barcode_TCGA]\n",
    "TCGA_sample_tissues = TCGA_sample_tissues.drop_duplicates().set_index('barcode')\n",
    "TCGA_sample_tissues = TCGA_sample_tissues.merge(data_df[target_data_key], left_index=True, right_index=True, how='right')\n",
    "TCGA_sample_tissues = TCGA_sample_tissues[['project']]\n",
    "TCGA_sample_tissues['project'] = TCGA_sample_tissues['project'].astype(str)\n",
    "pd.testing.assert_index_equal(TCGA_sample_tissues.index, data_df[target_data_key].index)"
   ]
  },
  {
   "cell_type": "markdown",
   "metadata": {},
   "source": [
    "## TRANSACT alignment"
   ]
  },
  {
   "cell_type": "code",
   "execution_count": 4,
   "metadata": {},
   "outputs": [
    {
     "ename": "NameError",
     "evalue": "name 'normalized_data_df' is not defined",
     "output_type": "error",
     "traceback": [
      "\u001b[0;31m---------------------------------------------------------------------------\u001b[0m",
      "\u001b[0;31mNameError\u001b[0m                                 Traceback (most recent call last)",
      "\u001b[0;32m<ipython-input-4-da7ab94a9395>\u001b[0m in \u001b[0;36m<module>\u001b[0;34m\u001b[0m\n\u001b[1;32m      6\u001b[0m                         verbose=10)\n\u001b[1;32m      7\u001b[0m \u001b[0;34m\u001b[0m\u001b[0m\n\u001b[0;32m----> 8\u001b[0;31m TRANSACT_clf.fit(normalized_data_df[source_data_key],\n\u001b[0m\u001b[1;32m      9\u001b[0m                  \u001b[0mnormalized_data_df\u001b[0m\u001b[0;34m[\u001b[0m\u001b[0mtarget_data_key\u001b[0m\u001b[0;34m]\u001b[0m\u001b[0;34m,\u001b[0m\u001b[0;34m\u001b[0m\u001b[0;34m\u001b[0m\u001b[0m\n\u001b[1;32m     10\u001b[0m                  \u001b[0mn_pv\u001b[0m\u001b[0;34m=\u001b[0m\u001b[0mn_pv\u001b[0m\u001b[0;34m,\u001b[0m\u001b[0;34m\u001b[0m\u001b[0;34m\u001b[0m\u001b[0m\n",
      "\u001b[0;31mNameError\u001b[0m: name 'normalized_data_df' is not defined"
     ]
    }
   ],
   "source": [
    "# Compute principal vectors\n",
    "TRANSACT_clf = TRANSACT(kernel=kernel_name,\n",
    "                        kernel_params=kernel_param,\n",
    "                        n_components=number_pc,\n",
    "                        n_jobs=n_jobs,\n",
    "                        verbose=10)\n",
    "\n",
    "TRANSACT_clf.fit(normalized_data_df[source_data_key],\n",
    "                 normalized_data_df[target_data_key],  \n",
    "                 n_pv=n_pv,\n",
    "                 step=n_interpolation,\n",
    "                 with_interpolation=True)"
   ]
  },
  {
   "cell_type": "code",
   "execution_count": null,
   "metadata": {},
   "outputs": [],
   "source": [
    "# Project data\n",
    "source_consensus_features = TRANSACT_clf.transform(normalized_data_df[source_data_key])\n",
    "target_consensus_features = TRANSACT_clf.transform(normalized_data_df[target_data_key])\n",
    "\n",
    "# Put into format\n",
    "source_consensus_features = pd.DataFrame(source_consensus_features,\n",
    "                                         index=data_df[source_data_key].index)\n",
    "target_consensus_features = pd.DataFrame(target_consensus_features,\n",
    "                                         index=data_df[target_data_key].index)"
   ]
  },
  {
   "cell_type": "markdown",
   "metadata": {},
   "source": [
    "## Proportion of consensus features"
   ]
  },
  {
   "cell_type": "code",
   "execution_count": null,
   "metadata": {},
   "outputs": [],
   "source": [
    "_, consensus_feature_contribution = compute_proportion(kernel_param['gamma'],\n",
    "                                                       n_pc=number_pc, \n",
    "                                                       n_pv=n_pv, \n",
    "                                                       normalized_data_df=normalized_data_df, \n",
    "                                                       source_data_key=source_data_key,\n",
    "                                                       target_data_key=target_data_key,\n",
    "                                                       clf=TRANSACT_clf)"
   ]
  },
  {
   "cell_type": "code",
   "execution_count": null,
   "metadata": {},
   "outputs": [],
   "source": [
    "contribution_df = pd.DataFrame({d:l['consensus'] for d,l in consensus_feature_contribution.items()})\n",
    "contribution_df.columns = ['offset', 'linear', 'interaction']\n",
    "contribution_df['higher order'] = 1 - np.sum(contribution_df, axis=1)\n",
    "\n",
    "contribution_df.plot.bar(stacked=True, figsize=(10,6.5), width=0.7)\n",
    "\n",
    "plt.legend(bbox_to_anchor=(0.9, 1.05), loc=4, borderaxespad=0., fontsize=15, ncol=2)\n",
    "\n",
    "yticks = np.linspace(0,1,6)\n",
    "plt.yticks(yticks, ['%s%%'%(int(100*y)) for y in yticks], fontsize=25, color='black')\n",
    "plt.xticks(np.arange(n_pv), np.arange(1,1+n_pv).astype(str), fontsize=20, color='black')\n",
    "plt.xlabel('Consensus feature number', fontsize=30, color='black')\n",
    "plt.ylabel('Geometric proportion \\n of different contributions', fontsize=25, color='black')\n",
    "plt.ylim(0,1.001)\n",
    "plt.tight_layout()\n",
    "plt.savefig('./figures/Fig_3A',\n",
    "            dpi=300)"
   ]
  },
  {
   "cell_type": "markdown",
   "metadata": {},
   "source": [
    "## UMAP plot"
   ]
  },
  {
   "cell_type": "code",
   "execution_count": null,
   "metadata": {},
   "outputs": [],
   "source": [
    "tissue_correspondance = [\n",
    "    ['Breast', 'TCGA-BRCA'],\n",
    "    ['Skin', 'TCGA-SKCM'],\n",
    "    ['Large Intestine', 'Small Intestine', 'TCGA-COAD', 'TCGA-READ'],\n",
    "    ['Lung', 'TCGA-MESO', 'TCGA-LUAD', 'TCGA-LUSC'],\n",
    "    ['Head and Neck', 'TCGA-HNSC'],\n",
    "    ['Prostate', 'TCGA-PRAD'],\n",
    "    ['Pancreas', 'TCGA-PAAD'],\n",
    "    ['Brain', 'Central Nervous System', 'TCGA-GBM', 'TCGA-LGG'],\n",
    "    ['Blood', 'Haematopoietic and Lymphoid', 'TARGET-AML', 'TARGET-ALL-P2', 'TCGA-DLBC', 'TCGA-LAML'],\n",
    "    ['Kidney', 'TCGA-KICH', 'TCGA-KIRC', 'TCGA-KIRP'],\n",
    "    ['Ovary', 'TCGA-OV'],\n",
    "    ['Uterus', 'TCGA-UCS', 'TCGA-UCEC'],\n",
    "    ['Liver', 'TCGA-CHOL', 'TCGA-LIHC'],\n",
    "    ['Thyroid', 'TCGA-THCA'],\n",
    "    ['Stomach', 'TCGA-STAD'],\n",
    "    ['Bladder', 'TCGA-BLCA'],\n",
    "    ['Cervix', 'Vulva', 'TCGA-CESC'],\n",
    "    ['Esophagus', 'TCGA-ESCA'],\n",
    "    ['Peripheral Nervous System', 'Adrenal Gland', 'TCGA-PCPG', 'TCGA-ACC'],\n",
    "    ['Bone', 'Soft Tissue', 'TCGA-SARC'],\n",
    "    ['Testis', 'TCGA-TGCT'],\n",
    "    ['Thymus', 'TCGA-THYM'],\n",
    "    ['Eye', 'TCGA-UVM'],\n",
    "    ['Endometrium']\n",
    "]\n",
    "\n",
    "colors = ['green',\n",
    "          'red', \n",
    "          'darksalmon',\n",
    "            'orchid',\n",
    "          'gold', \n",
    "          'olivedrab', \n",
    "          'deepskyblue', \n",
    "          'navy',\n",
    "          'm', \n",
    "          'sandybrown',\n",
    "          'slategray',\n",
    "          'chocolate',\n",
    "          'silver',\n",
    "          'coral', \n",
    "          'magenta',\n",
    "          'orange',\n",
    "          'violet', \n",
    "          'yellowgreen', \n",
    "          'pink', \n",
    "          'orchid',\n",
    "          'darkblue',\n",
    "          'plum',\n",
    "          'khaki',\n",
    "          'sienna',\n",
    "          'tomato']\n",
    "assert len(colors) >= len(tissue_correspondance)"
   ]
  },
  {
   "cell_type": "markdown",
   "metadata": {},
   "source": [
    "### UMAP computation"
   ]
  },
  {
   "cell_type": "code",
   "execution_count": null,
   "metadata": {},
   "outputs": [],
   "source": [
    "n_neighbors = 100\n",
    "n_epochs = 2000\n",
    "metric = 'cosine'\n",
    "umap_embedding = umap.UMAP(n_neighbors=n_neighbors,\n",
    "                           n_epochs=n_epochs,\n",
    "                           metric=metric,\n",
    "                           verbose=True)\n",
    "\n",
    "X = np.concatenate([np.array(source_consensus_features), \n",
    "                    np.array(target_consensus_features)])\n",
    "X_projected_umap = umap_embedding.fit_transform(X)"
   ]
  },
  {
   "cell_type": "markdown",
   "metadata": {},
   "source": [
    "### Cell lines vs TCGA"
   ]
  },
  {
   "cell_type": "code",
   "execution_count": null,
   "metadata": {},
   "outputs": [],
   "source": [
    "plt.figure(figsize=(15,10))\n",
    "sns.scatterplot(x=X_projected_umap[source_consensus_features.shape[0]:,0], \n",
    "                y=X_projected_umap[source_consensus_features.shape[0]:,1],\n",
    "                label='TCGA', marker='x', alpha=0.7)\n",
    "sns.scatterplot(x=X_projected_umap[:source_consensus_features.shape[0],0], \n",
    "                y=X_projected_umap[:source_consensus_features.shape[0],1],\n",
    "                label='GDSC', marker='v', alpha=0.9)\n",
    "\n",
    "plt.xticks(fontsize=12)\n",
    "plt.xlabel('UMAP direction 1', fontsize=20, color='black')\n",
    "plt.ylabel('UMAP direction 2', fontsize=20, color='black')\n",
    "plt.legend(fontsize=12, \n",
    "           ncol=1,\n",
    "           bbox_to_anchor=(1.25, 1.))\n",
    "plt.tight_layout()\n",
    "plt.savefig('figures/GDSC_vs_TCGA.png', dpi=300)\n",
    "plt.show()"
   ]
  },
  {
   "cell_type": "markdown",
   "metadata": {},
   "source": [
    "### UMAP colored by tissue"
   ]
  },
  {
   "cell_type": "code",
   "execution_count": null,
   "metadata": {},
   "outputs": [],
   "source": [
    "fig = pylab.figure(figsize=(20,14))\n",
    "figlegend = pylab.figure(figsize=(20,14))\n",
    "ax = fig.add_subplot(111)\n",
    "\n",
    "for c, t in zip(colors, tissue_correspondance):\n",
    "    X_source_index = np.where(np.isin(data_df[source_data_key].index.get_level_values(1), t))[0]\n",
    "    X_target_index = np.where(np.isin(TCGA_sample_tissues['project'], t))[0] + source_consensus_features.shape[0]\n",
    "    \n",
    "    sns.scatterplot(x=X_projected_umap[X_target_index,0], \n",
    "                    y=X_projected_umap[X_target_index,1],\n",
    "                    label='Tumor - %s'%(t[0]),\n",
    "                    marker='x',\n",
    "                    alpha=0.7,\n",
    "                    color=c,\n",
    "                    s=100, ax=ax)\n",
    "    sns.scatterplot(x=X_projected_umap[X_source_index,0], \n",
    "                    y=X_projected_umap[X_source_index,1],\n",
    "                    label='Cell line - %s'%(t[0]), marker='o', \n",
    "                    alpha=1, color=c, s=100, ax=ax)\n",
    "\n",
    "# Tissue type not indicated\n",
    "X_source_index = np.where(~np.isin(data_df[source_data_key].index.get_level_values(1), np.concatenate(tissue_correspondance)))[0]\n",
    "sns.scatterplot(x=X_projected_umap[X_source_index,0], \n",
    "                y=X_projected_umap[X_source_index,1],\n",
    "                label='GDSC - rest', marker='v', alpha=0.7, color='black', ax=ax)\n",
    "\n",
    "ax.tick_params(axis='both', labelsize=30)\n",
    "ax.set_xlabel('UMAP direction 1', fontsize=40, color='black')\n",
    "ax.set_ylabel('UMAP direction 2', fontsize=40, color='black')\n",
    "\n",
    "pylab.figlegend(*ax.get_legend_handles_labels(), loc = 'upper left', ncol=2, fontsize=20)\n",
    "figlegend.tight_layout()\n",
    "figlegend.savefig('./figures/GDSC_to_TCGA_UMAP_legend.png',\n",
    "                  dpi=300)\n",
    "\n",
    "ax.legend([])\n",
    "plt.tight_layout()\n",
    "fig.savefig('./figures/GDSC_to_TCGA_UMAP.png',\n",
    "            dpi=300)\n",
    "plt.show()"
   ]
  }
 ],
 "metadata": {
  "kernelspec": {
   "display_name": "Python (TRANSACT_figures)",
   "language": "python",
   "name": "transact_figures"
  },
  "language_info": {
   "codemirror_mode": {
    "name": "ipython",
    "version": 3
   },
   "file_extension": ".py",
   "mimetype": "text/x-python",
   "name": "python",
   "nbconvert_exporter": "python",
   "pygments_lexer": "ipython3",
   "version": "3.6.11"
  }
 },
 "nbformat": 4,
 "nbformat_minor": 4
}
