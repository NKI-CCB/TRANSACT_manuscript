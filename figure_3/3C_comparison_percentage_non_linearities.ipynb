{
 "cells": [
  {
   "cell_type": "markdown",
   "metadata": {},
   "source": [
    "# Fig 3C: Comparison of non-linearity levels across GDSC-PDXE, GDSC-TCGA and GDSC-HMF.\n",
    "This notebook supports the panels 3C."
   ]
  },
  {
   "cell_type": "code",
   "execution_count": null,
   "metadata": {},
   "outputs": [],
   "source": [
    "# All list of import is in module_import.py\n",
    "from module_import import *\n",
    "\n",
    "%config IPCompleter.use_jedi = False"
   ]
  },
  {
   "cell_type": "markdown",
   "metadata": {},
   "source": [
    "# Read data"
   ]
  },
  {
   "cell_type": "code",
   "execution_count": null,
   "metadata": {},
   "outputs": [],
   "source": [
    "contribution_df = {}\n",
    "for source in ['PDXE', 'TCGA', 'HMF']:\n",
    "    file = './output/%s_contributions.csv'%(source)\n",
    "    df = pd.read_csv(file, index_col=0)\n",
    "    df = np.mean(df)\n",
    "    contribution_df[source] = df\n",
    "contribution_df = pd.concat(contribution_df, axis=1)"
   ]
  },
  {
   "cell_type": "markdown",
   "metadata": {},
   "source": [
    "## Plot comparison"
   ]
  },
  {
   "cell_type": "code",
   "execution_count": null,
   "metadata": {},
   "outputs": [],
   "source": [
    "yticks = np.linspace(0,1,6)\n",
    "yticks_labels = ['%s%%'%(int(100*e)) for e in yticks]\n",
    "\n",
    "plt.figure(figsize=(5,50))\n",
    "contribution_df.T.plot(kind='bar', stacked=True, width=0.8, figsize=(4,5))\n",
    "plt.xticks(fontsize=25, rotation='vertical', color='black')\n",
    "plt.yticks(yticks, yticks_labels, fontsize=20, color='black')\n",
    "plt.ylim(0,1)\n",
    "legend = plt.legend()\n",
    "legend.remove()\n",
    "plt.tight_layout()\n",
    "plt.savefig('./figures/global_contribution_comparison.png', dpi=300)"
   ]
  }
 ],
 "metadata": {
  "kernelspec": {
   "display_name": "Python (TRANSACT_figures)",
   "language": "python",
   "name": "transact_figures"
  },
  "language_info": {
   "codemirror_mode": {
    "name": "ipython",
    "version": 3
   },
   "file_extension": ".py",
   "mimetype": "text/x-python",
   "name": "python",
   "nbconvert_exporter": "python",
   "pygments_lexer": "ipython3",
   "version": "3.6.10"
  }
 },
 "nbformat": 4,
 "nbformat_minor": 4
}
